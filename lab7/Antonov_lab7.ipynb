{
 "cells": [
  {
   "cell_type": "markdown",
   "id": "c273d949",
   "metadata": {},
   "source": [
    "## Антонов М, БПМ201, вар 2"
   ]
  },
  {
   "cell_type": "markdown",
   "id": "a5b3fc87",
   "metadata": {},
   "source": [
    "**7.1.2, 7.3.1, 7.6.1**"
   ]
  },
  {
   "cell_type": "code",
   "execution_count": 1,
   "id": "5d895fc5",
   "metadata": {},
   "outputs": [],
   "source": [
    "import numpy as np\n",
    "import pandas as pd\n",
    "from matplotlib import pyplot as plt\n",
    "from scipy.optimize import fsolve"
   ]
  },
  {
   "cell_type": "code",
   "execution_count": 2,
   "id": "7e107079",
   "metadata": {},
   "outputs": [],
   "source": [
    "np.set_printoptions(precision=16, suppress=True) "
   ]
  },
  {
   "cell_type": "markdown",
   "id": "e325f476",
   "metadata": {},
   "source": [
    "## 7.1.2"
   ]
  },
  {
   "cell_type": "markdown",
   "id": "3b850e9d",
   "metadata": {},
   "source": [
    "Найти приближенное решение задачи Коши для обыкновенного дифференциального уравнения (ОДУ) 1 порядка\n",
    "и оценить погрешность решения задачи. \n",
    "\n",
    "$$y'(t) = f(t,y(t)), t \\in [t_0,T],$$\n",
    "$$y(t_0)=y_0$$\n",
    "\n",
    "ПОРЯДОК РЕШЕНИЯ ЗАДАЧИ:\n",
    "\n",
    "1. Задать исходные данные: функцию $f$ правой части, начальное значение $y_0$.\n",
    "\n",
    "2. Используя функцию eyler, найти приближенное решение задачи Коши с шагом $h = 0.1$ по явному методу Эйлера.\n",
    "\n",
    "3. Написать программу для поиска приближенного решения задачи Коши с шагом $h = 0.1$ по методу РунгеКутты $4$ порядка точности \n",
    "\n",
    "4. Найти решение задачи Коши аналитически.\n",
    "\n",
    "5. Построить таблицы значений приближенных и точного решений. На одном чертеже построить графики приближенных и точного решений.\n",
    "\n",
    "6. Оценить погрешность приближенных решений двумя способами: \n",
    "\n",
    "    а) по формуле $ \\varepsilon = \\underset{0\\leq i\\leq N}{ max}  |y(t_i) - y_i|$; здесь $y(t_i)$ и $y_i$ - значения точного и приближенного решений в узлах сетки $t_i = 1,...N$\n",
    "    \n",
    " \n",
    "    b) по правилу Рунге (по правилу двойного пересчета) \n",
    "     \n",
    "7. Выяснить, при каком значении шага $h=h^*$ решение, полученное по методу Эйлера, будет иметь такую же погрешность (см. п. 6а), как решение, полученное с помощью метода Рунге-Кутты с шагом . \n",
    "\n",
    "УКАЗАНИЕ. В п. 7 рекомендуется провести серию вычислений решения по методу Эйлера, дробя шаг пополам."
   ]
  },
  {
   "cell_type": "markdown",
   "id": "f8c0998b",
   "metadata": {},
   "source": [
    "### 1) Задание функции f"
   ]
  },
  {
   "cell_type": "markdown",
   "id": "82517260",
   "metadata": {},
   "source": [
    "Условия **7.1.2**:\n",
    "\n",
    "$$y  ctg(t) + 2 t sin(t)$$\n",
    "$$t_0 = \\frac{\\Pi}{2}$$ \n",
    "$$T=\\frac{\\Pi}{2}+1$$\n",
    "$$y_0=0$$\n",
    "\n",
    "где:\n",
    "\n",
    "$t_0$ - начало отрезка \n",
    "\n",
    "$T$ - конец отрезка\n",
    "\n",
    "$y_0$ - начальное решение з.Коши\n",
    "\n",
    "$h$ - шаг сетки\n",
    "\n",
    "$N$ - число узлов сетки"
   ]
  },
  {
   "cell_type": "code",
   "execution_count": 3,
   "id": "6d955d82",
   "metadata": {},
   "outputs": [],
   "source": [
    "t0 = np.pi/2 \n",
    "T = np.pi/2 + 1 \n",
    "y0 = 0\n",
    "h = 0.1 \n",
    "\n",
    "def func_1(t, y): \n",
    "    return y * np.cos(t)/np.sin(t) + 2 * t * np.sin(t) "
   ]
  },
  {
   "cell_type": "code",
   "execution_count": 4,
   "id": "eb6debc5",
   "metadata": {},
   "outputs": [],
   "source": [
    "column = ['type']\n",
    "column += [t0 + i * h for i in range(int((T - t0)/h)+1)]\n",
    "results = pd.DataFrame(columns=column)"
   ]
  },
  {
   "cell_type": "markdown",
   "id": "bae3e05b",
   "metadata": {},
   "source": [
    "### 2) Метод Эйлера "
   ]
  },
  {
   "cell_type": "code",
   "execution_count": 5,
   "id": "c67ca1a0",
   "metadata": {},
   "outputs": [],
   "source": [
    "def Eyler(func, t0, T, y0, h): \n",
    "    n = int((T - t0)/h)\n",
    "    y = [y0]\n",
    "    for i in range(n):\n",
    "        y.append(y[i] + h*func(t0 + i*h, y[i]))\n",
    "    return np.array(y)"
   ]
  },
  {
   "cell_type": "code",
   "execution_count": 6,
   "id": "1033e1e7",
   "metadata": {
    "scrolled": false
   },
   "outputs": [
    {
     "name": "stdout",
     "output_type": "stream",
     "text": [
      "t_0 = 1.5707963267948966, T = 2.5707963267948966, y_0 = 0, h = 0.1\n",
      "y:\n",
      "len = 11\n",
      "0.0\n",
      "0.3141592653589793\n",
      "0.6434970195701689\n",
      "0.9775523484126326\n",
      "1.3047611096289915\n",
      "1.6126414194535383\n",
      "1.888001366310637\n",
      "2.1171633476651732\n",
      "2.2861973048297823\n",
      "2.3811515568967696\n",
      "2.388263111991595\n"
     ]
    }
   ],
   "source": [
    "y_eyler = Eyler(func_1, t0, T, y0, h) \n",
    "print(f't_0 = {t0}, T = {T}, y_0 = {y0}, h = {h}')\n",
    "print('y:')\n",
    "print(f'len = {len(y_eyler)}')\n",
    "print(*list(y_eyler),sep='\\n')\n",
    "results.loc[len(results)] = ['eyler'] + list(y_eyler)"
   ]
  },
  {
   "cell_type": "markdown",
   "id": "7bc2b311",
   "metadata": {},
   "source": [
    "### 3) Рунге-Кутты"
   ]
  },
  {
   "cell_type": "code",
   "execution_count": 7,
   "id": "0d934f5e",
   "metadata": {},
   "outputs": [],
   "source": [
    "def Runge_Kutta_4_one_step(f, t, y, h): \n",
    "    k1 = f(t, y)\n",
    "    k2 = f(t + h*0.5, y + h*0.5*k1)\n",
    "    k3 = f(t + h*0.5, y + h*0.5*k2)\n",
    "    k4 = f(t + h, y + h*k3)\n",
    "    return y + h/6 * (k1 + 2*k2 + 2*k3 + k4)\n",
    "\n",
    "def Runge_Kutta_4(f, t,T, y, h):\n",
    "    n = int((T - t0)/h)\n",
    "    t_list = [t0 + i * h for i in range(n)]\n",
    "    y_list = [y]\n",
    "    for i in range(n):\n",
    "        y_list.append(Runge_Kutta_4_one_step(f, t_list[i] ,y_list[i], h))\n",
    "    return np.array(y_list)"
   ]
  },
  {
   "cell_type": "code",
   "execution_count": 8,
   "id": "c5d7f3c5",
   "metadata": {},
   "outputs": [
    {
     "name": "stdout",
     "output_type": "stream",
     "text": [
      "t_0 = 1.5707963267948966, T = 2.5707963267948966, y_0 = 0, h = 0.1\n",
      "y:\n",
      "len = 11\n",
      "0.0\n",
      "0.32253952769394817\n",
      "0.6549960196097516\n",
      "0.98636265224781\n",
      "1.3048075298852633\n",
      "1.5978967492468317\n",
      "1.8528383858569075\n",
      "2.0567434854342004\n",
      "2.1968997546468456\n",
      "2.261053300892874\n",
      "2.2376934360035023\n"
     ]
    }
   ],
   "source": [
    "y_Runge_Kutta = Runge_Kutta_4(func_1, t0, T, y0, h) \n",
    "print(f't_0 = {t0}, T = {T}, y_0 = {y0}, h = {h}')\n",
    "print('y:')\n",
    "print(f'len = {len(y_Runge_Kutta)}')\n",
    "print(*list(y_Runge_Kutta),sep='\\n')\n",
    "results.loc[len(results)] = ['Runge_Kutta'] + list(y_Runge_Kutta)"
   ]
  },
  {
   "cell_type": "markdown",
   "id": "a9dd69c8",
   "metadata": {},
   "source": [
    "### 4) Аналитическое решение"
   ]
  },
  {
   "cell_type": "markdown",
   "id": "2b36b54f",
   "metadata": {},
   "source": [
    "$\\begin{equation*}\n",
    " \\begin{cases}\n",
    "   y' =y  ctg(t) + 2 t sin(t) \\\\&t \\in [\\frac{\\Pi}{2},\\frac{\\Pi}{2}+1]\\\\\n",
    "   y(\\frac{\\Pi}{2}) = 0\n",
    " \\end{cases}\n",
    "\\end{equation*}$"
   ]
  },
  {
   "cell_type": "markdown",
   "id": "3a386e24",
   "metadata": {},
   "source": [
    "Линейноне однородное:\n",
    "\n",
    "1) $y' - y ctg(t) = 0$\n",
    "\n",
    "$$\\frac{dy}{dt} = y ctg(t)$$\n",
    "\n",
    "$$\\frac{dy}{y} =  ctg(t) dt$$\n",
    "\n",
    "$$\\Rightarrow y = sin(t) C_2$$\n",
    "\n",
    "2) $y = sin(t) C_2(t)$\n",
    "\n",
    "$$cos(t)C_2(t) + sin(t) C_2'(t) = sin(t) C_2(t) ctg(t) + 2 t sin(t)$$\n",
    "\n",
    "$$sin(t) C_2'(t) =  2 t sin(t)$$\n",
    "\n",
    "$$C_2'(t) = \\frac{2 t sin(t)}{sin(t)} = 2 t$$\n",
    "\n",
    "$$C_2(t) = t^2+C_3$$\n",
    "\n",
    "$$\\Rightarrow y = sin(t) (t^2+C_3)$$\n",
    "\n",
    "3) З.Коши\n",
    "\n",
    "$$y(\\frac{\\Pi}{2}) = sin(\\frac{\\Pi}{2})(\\frac{\\Pi^2}{4}+C_3)=0$$\n",
    "\n",
    "$$\\Rightarrow C_3 = - \\frac{\\Pi^2}{4}$$\n",
    "\n",
    "4) Ответ:\n",
    "\n",
    "$$y = sin(t)(t^2-\\frac{\\Pi^2}{4})$$"
   ]
  },
  {
   "cell_type": "code",
   "execution_count": 9,
   "id": "964854e3",
   "metadata": {},
   "outputs": [],
   "source": [
    "def anal_func_1(t):\n",
    "    return np.sin(t)*(t**2 - np.pi**2 /4)\n",
    "\n",
    "def Analit(f, t, T, h):\n",
    "    N = int((T - t0)/h)\n",
    "    t_list = np.array([t + i * h for i in range(N+1)])\n",
    "    y_anal = f(t_list)\n",
    "    return np.array(y_anal)"
   ]
  },
  {
   "cell_type": "code",
   "execution_count": 10,
   "id": "41a763c1",
   "metadata": {
    "scrolled": false
   },
   "outputs": [
    {
     "name": "stdout",
     "output_type": "stream",
     "text": [
      "t_0 = 1.5707963267948966, T = 2.5707963267948966, y_0 = 0, h = 0.1\n",
      "y:\n",
      "len = 11\n",
      "0.0\n",
      "0.32253981924564945\n",
      "0.654996655308636\n",
      "0.9863637128042856\n",
      "1.304809139947492\n",
      "1.5978991051492457\n",
      "1.8528418040952404\n",
      "2.0567484894793484\n",
      "2.196907237815605\n",
      "2.261064853044812\n",
      "2.237712060701113\n"
     ]
    }
   ],
   "source": [
    "y_anal = Analit(anal_func_1, t0,T, h)\n",
    "print(f't_0 = {t0}, T = {T}, y_0 = {y0}, h = {h}')\n",
    "print('y:')\n",
    "print(f'len = {len(y_anal)}')\n",
    "print(*list(y_anal),sep='\\n')\n",
    "results.loc[len(results)] = ['analytical'] + list(y_anal)"
   ]
  },
  {
   "cell_type": "code",
   "execution_count": 11,
   "id": "6457522b",
   "metadata": {
    "scrolled": false
   },
   "outputs": [
    {
     "data": {
      "text/html": [
       "<div>\n",
       "<style scoped>\n",
       "    .dataframe tbody tr th:only-of-type {\n",
       "        vertical-align: middle;\n",
       "    }\n",
       "\n",
       "    .dataframe tbody tr th {\n",
       "        vertical-align: top;\n",
       "    }\n",
       "\n",
       "    .dataframe thead th {\n",
       "        text-align: right;\n",
       "    }\n",
       "</style>\n",
       "<table border=\"1\" class=\"dataframe\">\n",
       "  <thead>\n",
       "    <tr style=\"text-align: right;\">\n",
       "      <th></th>\n",
       "      <th>1.5707963267948966</th>\n",
       "      <th>1.6707963267948966</th>\n",
       "      <th>1.7707963267948965</th>\n",
       "      <th>1.8707963267948966</th>\n",
       "      <th>1.9707963267948965</th>\n",
       "      <th>2.0707963267948966</th>\n",
       "      <th>2.1707963267948966</th>\n",
       "      <th>2.2707963267948967</th>\n",
       "      <th>2.3707963267948964</th>\n",
       "      <th>2.4707963267948965</th>\n",
       "      <th>2.5707963267948966</th>\n",
       "    </tr>\n",
       "    <tr>\n",
       "      <th>type</th>\n",
       "      <th></th>\n",
       "      <th></th>\n",
       "      <th></th>\n",
       "      <th></th>\n",
       "      <th></th>\n",
       "      <th></th>\n",
       "      <th></th>\n",
       "      <th></th>\n",
       "      <th></th>\n",
       "      <th></th>\n",
       "      <th></th>\n",
       "    </tr>\n",
       "  </thead>\n",
       "  <tbody>\n",
       "    <tr>\n",
       "      <th>eyler</th>\n",
       "      <td>0.0</td>\n",
       "      <td>0.314159</td>\n",
       "      <td>0.643497</td>\n",
       "      <td>0.977552</td>\n",
       "      <td>1.304761</td>\n",
       "      <td>1.612641</td>\n",
       "      <td>1.888001</td>\n",
       "      <td>2.117163</td>\n",
       "      <td>2.286197</td>\n",
       "      <td>2.381152</td>\n",
       "      <td>2.388263</td>\n",
       "    </tr>\n",
       "    <tr>\n",
       "      <th>Runge_Kutta</th>\n",
       "      <td>0.0</td>\n",
       "      <td>0.322540</td>\n",
       "      <td>0.654996</td>\n",
       "      <td>0.986363</td>\n",
       "      <td>1.304808</td>\n",
       "      <td>1.597897</td>\n",
       "      <td>1.852838</td>\n",
       "      <td>2.056743</td>\n",
       "      <td>2.196900</td>\n",
       "      <td>2.261053</td>\n",
       "      <td>2.237693</td>\n",
       "    </tr>\n",
       "    <tr>\n",
       "      <th>analytical</th>\n",
       "      <td>0.0</td>\n",
       "      <td>0.322540</td>\n",
       "      <td>0.654997</td>\n",
       "      <td>0.986364</td>\n",
       "      <td>1.304809</td>\n",
       "      <td>1.597899</td>\n",
       "      <td>1.852842</td>\n",
       "      <td>2.056748</td>\n",
       "      <td>2.196907</td>\n",
       "      <td>2.261065</td>\n",
       "      <td>2.237712</td>\n",
       "    </tr>\n",
       "  </tbody>\n",
       "</table>\n",
       "</div>"
      ],
      "text/plain": [
       "             1.5707963267948966  1.6707963267948966  1.7707963267948965  \\\n",
       "type                                                                      \n",
       "eyler                       0.0            0.314159            0.643497   \n",
       "Runge_Kutta                 0.0            0.322540            0.654996   \n",
       "analytical                  0.0            0.322540            0.654997   \n",
       "\n",
       "             1.8707963267948966  1.9707963267948965  2.0707963267948966  \\\n",
       "type                                                                      \n",
       "eyler                  0.977552            1.304761            1.612641   \n",
       "Runge_Kutta            0.986363            1.304808            1.597897   \n",
       "analytical             0.986364            1.304809            1.597899   \n",
       "\n",
       "             2.1707963267948966  2.2707963267948967  2.3707963267948964  \\\n",
       "type                                                                      \n",
       "eyler                  1.888001            2.117163            2.286197   \n",
       "Runge_Kutta            1.852838            2.056743            2.196900   \n",
       "analytical             1.852842            2.056748            2.196907   \n",
       "\n",
       "             2.4707963267948965  2.5707963267948966  \n",
       "type                                                 \n",
       "eyler                  2.381152            2.388263  \n",
       "Runge_Kutta            2.261053            2.237693  \n",
       "analytical             2.261065            2.237712  "
      ]
     },
     "execution_count": 11,
     "metadata": {},
     "output_type": "execute_result"
    }
   ],
   "source": [
    "results.set_index('type',inplace=True)\n",
    "results"
   ]
  },
  {
   "cell_type": "code",
   "execution_count": 12,
   "id": "255535d9",
   "metadata": {
    "scrolled": false
   },
   "outputs": [
    {
     "data": {
      "image/png": "[encoded data removed]",
      "text/plain": [
       "<Figure size 640x480 with 1 Axes>"
      ]
     },
     "metadata": {},
     "output_type": "display_data"
    }
   ],
   "source": [
    "for index in results.index:\n",
    "    plt.plot([t0 + i * h for i in range(int((T - t0)/h)+1)], results.loc[index],label=index)\n",
    "    \n",
    "plt.xlabel('t')\n",
    "plt.ylabel('y')\n",
    "plt.legend()\n",
    "plt.show()"
   ]
  },
  {
   "cell_type": "markdown",
   "id": "a0a36e74",
   "metadata": {},
   "source": [
    "Графики Аналитического решения и Рунге-Кутта совпали"
   ]
  },
  {
   "cell_type": "markdown",
   "id": "1fa1f787",
   "metadata": {},
   "source": [
    "### 6) Оценить погрешность"
   ]
  },
  {
   "cell_type": "markdown",
   "id": "00817430",
   "metadata": {},
   "source": [
    "$ \\varepsilon = \\underset{0\\leq i\\leq N} max  |y(t_i) - y_i|$"
   ]
  },
  {
   "cell_type": "code",
   "execution_count": 13,
   "id": "a2360571",
   "metadata": {},
   "outputs": [],
   "source": [
    "def Epsilon(x,y):\n",
    "    return max(abs(x - y))"
   ]
  },
  {
   "cell_type": "code",
   "execution_count": 14,
   "id": "40f8130a",
   "metadata": {
    "scrolled": true
   },
   "outputs": [
    {
     "name": "stdout",
     "output_type": "stream",
     "text": [
      "eyler: E = 0.15055105129048174\n",
      "Runge-Kutta: E = 1.862469761082508e-05\n"
     ]
    }
   ],
   "source": [
    "print(f'eyler: E = {Epsilon(y_eyler, y_anal)}')\n",
    "print(f'Runge-Kutta: E = {Epsilon(y_Runge_Kutta, y_anal)}')"
   ]
  },
  {
   "cell_type": "markdown",
   "id": "937c7dbf",
   "metadata": {},
   "source": [
    "Погрешность метода Эйлера больше чем Рунге-Кутта"
   ]
  },
  {
   "cell_type": "markdown",
   "id": "cea0e343",
   "metadata": {},
   "source": [
    "**Двойной пересчет**"
   ]
  },
  {
   "cell_type": "markdown",
   "id": "5cafaf4c",
   "metadata": {},
   "source": [
    "Правило рунге:\n",
    "$$y(t_i)-y_i^{h/2} \\approx \\varepsilon_i^h$$, где $$\\varepsilon_i^h = \\frac{y_i^{h/2} - y(t_i)}{2^p-1}$$"
   ]
  },
  {
   "cell_type": "code",
   "execution_count": 15,
   "id": "619d7f9a",
   "metadata": {},
   "outputs": [],
   "source": [
    "def runge_rule(x, y,p=1):\n",
    "    return (y[::2]- x)/(2**(p)-1)\n",
    "\n",
    "def Epsilon_2(x,y,p=1):\n",
    "    return max(abs(runge_rule(x,y,p=p)))"
   ]
  },
  {
   "cell_type": "code",
   "execution_count": 16,
   "id": "e4981a54",
   "metadata": {
    "scrolled": true
   },
   "outputs": [
    {
     "name": "stdout",
     "output_type": "stream",
     "text": [
      "Eyler: E = 0.07581489139051101\n",
      "Runge-Kutta: E = 1.1669151422921686e-06\n"
     ]
    }
   ],
   "source": [
    "y_eyler_2 = Eyler(func_1, t0, T, y0, h/2)\n",
    "print(f'Eyler: E = {Epsilon_2(y_eyler, y_eyler_2, p = 1) }')\n",
    "y_Runge_Kutta_2 = Runge_Kutta_4(func_1, t0, T, y0, h/2)\n",
    "print(f'Runge-Kutta: E = {Epsilon_2(y_Runge_Kutta, y_Runge_Kutta_2,p=4) }')"
   ]
  },
  {
   "cell_type": "markdown",
   "id": "ed248bc7",
   "metadata": {},
   "source": [
    "Погрешность метода Эйлера больше чем Рунге-Кутта"
   ]
  },
  {
   "cell_type": "markdown",
   "id": "e50cc74b",
   "metadata": {},
   "source": [
    "### 7) найти h*"
   ]
  },
  {
   "cell_type": "code",
   "execution_count": 17,
   "id": "708959bb",
   "metadata": {
    "scrolled": false
   },
   "outputs": [
    {
     "name": "stdout",
     "output_type": "stream",
     "text": [
      "Epsilon Euler start = 0.15055105129048174\n",
      "Epsilon Runge-Kutta = 1.862469761082508e-05\n",
      "0.07473615989997073\n",
      "0.03721109648899512\n",
      "0.01856391045004635\n",
      "0.009271269108357849\n",
      "0.004632929796372309\n",
      "0.0023157846385282177\n",
      "0.0011577217507379167\n",
      "0.0005788181706134488\n",
      "0.00028939840131014805\n",
      "0.0001446965286691082\n",
      "7.234759621965736e-05\n",
      "3.617363106167559e-05\n",
      "1.8086773792003186e-05\n"
     ]
    },
    {
     "data": {
      "image/png": "[encoded data removed]",
      "text/plain": [
       "<Figure size 1000x600 with 1 Axes>"
      ]
     },
     "metadata": {},
     "output_type": "display_data"
    },
    {
     "name": "stdout",
     "output_type": "stream",
     "text": [
      "При значении шага  1.220703125e-05\n",
      "Количество итераций  13\n"
     ]
    }
   ],
   "source": [
    "h_new = h\n",
    "ep_eyler = Epsilon(y_eyler, y_anal)\n",
    "ep_Runge_Kutta = Epsilon(y_Runge_Kutta, y_anal) \n",
    "print(f'Epsilon Euler start = {ep_eyler}')\n",
    "print(f'Epsilon Runge-Kutta = {ep_Runge_Kutta}')\n",
    "count_it = 0\n",
    "while ep_eyler >= ep_Runge_Kutta and count_it < 100:\n",
    "    count_it+=1\n",
    "    h_new = h_new/2\n",
    "    ep_eyler = Epsilon(Eyler(func_1,t0,T, y0, h_new), Analit(anal_func_1, t0,T, h_new)) \n",
    "    print(ep_eyler)\n",
    "plt.figure(figsize=(10, 6))\n",
    "plt.plot( Eyler(func_1,t0,T, y0, h_new),label='Eyler',color='r')\n",
    "plt.plot( Analit(anal_func_1, t0, T, h_new),label='Analit',linestyle='-.',color='b')\n",
    "    \n",
    "plt.xlabel('t')\n",
    "plt.ylabel('y')\n",
    "plt.legend()\n",
    "plt.show()\n",
    "print(\"При значении шага \", h_new)\n",
    "print(\"Количество итераций \", count_it)"
   ]
  },
  {
   "cell_type": "markdown",
   "id": "bd3e5990",
   "metadata": {},
   "source": [
    "___"
   ]
  },
  {
   "cell_type": "markdown",
   "id": "16cc49b9",
   "metadata": {},
   "source": [
    "**Вывод:**\n",
    "    \n",
    "В данном задании проводилось сравнение методов Эйлера и Рунге-Кутта на примере уравнения:\n",
    "    \n",
    "$$\\begin{equation*}\n",
    " \\begin{cases}\n",
    "   y' =y  ctg(t) + 2 t sin(t) \\\\&t \\in [\\frac{\\Pi}{2},\\frac{\\Pi}{2}+1]\\\\\n",
    "   y(\\frac{\\Pi}{2}) = 0\n",
    " \\end{cases}\n",
    "\\end{equation*}$$\n",
    "    \n",
    "Для этого оно было решено:\n",
    "    \n",
    "$$y = sin(t)(t^2-\\frac{\\Pi^2}{4})$$\n",
    "    \n",
    "Метод Рунге-Кутта показал меньшую погрешность по формуле $ \\varepsilon = \\underset{0\\leq i\\leq N} max  |y(t_i) - y_i|$, также методом двойного пересчета.\n",
    "    \n",
    "Для того, чтобы погрешность метода Эйлера была меньше чем Рунге-Кутта, h должно быть равно 1.220703125e-05\n",
    "    "
   ]
  },
  {
   "cell_type": "markdown",
   "id": "c9f85a5d",
   "metadata": {},
   "source": [
    "## 7.3.1"
   ]
  },
  {
   "cell_type": "markdown",
   "id": "0d0e380d",
   "metadata": {},
   "source": [
    "Решить приближенно задачу Коши для ОДУ 1 порядка вида: $$y'(t) = f(t,y(t)), t \\in [t_0,T],$$\n",
    "$$y(t_0)=y_0$$\n",
    "\n",
    ", используя метод Рунге-Кутты 4\n",
    "порядка точности и метод, указанный в варианте, с шагами\n",
    "$h$\n",
    "и\n",
    "$\\frac{h}{2}$\n",
    ". Для каждого метода оценить\n",
    "погрешность по правилу Рунге и вычислить уточненное решение. Построить на\n",
    "одном чертеже графики приближенных решений (с шагом h / 2) и графики уточненных решений.\n"
   ]
  },
  {
   "cell_type": "markdown",
   "id": "cf50a73a",
   "metadata": {},
   "source": [
    "Задание:"
   ]
  },
  {
   "cell_type": "markdown",
   "id": "d3205598",
   "metadata": {},
   "source": [
    "$$-ty+(1+t)e^{-t}y^2$$\n",
    "$$t0 = 0$$\n",
    "$$T = 1$$\n",
    "$$y0 = 1$$\n",
    "Метод: **Рунге-Кутты 3 порядка I**"
   ]
  },
  {
   "cell_type": "code",
   "execution_count": 18,
   "id": "22f70190",
   "metadata": {},
   "outputs": [],
   "source": [
    "t0 = 0\n",
    "T = 1\n",
    "y0 = 1\n",
    "h = 0.1"
   ]
  },
  {
   "cell_type": "markdown",
   "id": "2c9832f4",
   "metadata": {},
   "source": [
    "Функция по заданию"
   ]
  },
  {
   "cell_type": "code",
   "execution_count": 19,
   "id": "6833cf48",
   "metadata": {},
   "outputs": [],
   "source": [
    "def func_2(t,y):\n",
    "    return -t*y+(1+t)*np.exp(-t)*y**2"
   ]
  },
  {
   "cell_type": "markdown",
   "id": "6b9ae999",
   "metadata": {},
   "source": [
    "метод Рунге-Кутта 3 порядка I"
   ]
  },
  {
   "cell_type": "code",
   "execution_count": 20,
   "id": "1756f51d",
   "metadata": {},
   "outputs": [],
   "source": [
    "def Runge_Kutta3_1_one_step(f, t, y, h):\n",
    "    k1 = h*f(t, y)\n",
    "    k2 = h*f(t + h*0.5, y + 0.5*k1)\n",
    "    k3 = h*f(t + h, y-k1 + 2*k2)\n",
    "    return y + (k1 + 4*k2 + k3)/6\n",
    "\n",
    "def Runge_Kutta3_1(f, t, T, y, h):\n",
    "    N = int((T-t)/h)\n",
    "    t_list = [t + i * h for i in range(N)]\n",
    "    y_list = [y]\n",
    "    for i in range(N):\n",
    "        y_list.append(Runge_Kutta3_1_one_step(f, t_list[i] ,y_list[i], h))\n",
    "    return np.array(y_list)"
   ]
  },
  {
   "cell_type": "markdown",
   "id": "1ed79a35",
   "metadata": {},
   "source": [
    "Находим значения методами Рунге-Кутта 4 порядка и Рунге-Кутта 3 порядка I"
   ]
  },
  {
   "cell_type": "code",
   "execution_count": 21,
   "id": "986e42a1",
   "metadata": {},
   "outputs": [],
   "source": [
    "Runge_Kutta_4_h = Runge_Kutta_4(func_2,t0,T,y0,h)\n",
    "Runge_Kutta_4_h2 = Runge_Kutta_4(func_2,t0,T,y0,h/2)\n",
    "Runge_Kutta_3_1_h = Runge_Kutta3_1(func_2,t0,T,y0,h)\n",
    "Runge_Kutta_3_1_h2 = Runge_Kutta3_1(func_2,t0,T,y0,h/2)"
   ]
  },
  {
   "cell_type": "markdown",
   "id": "ca9e46bd",
   "metadata": {},
   "source": [
    "Находим погрешности по правилу Рунге"
   ]
  },
  {
   "cell_type": "code",
   "execution_count": 22,
   "id": "a4437248",
   "metadata": {
    "scrolled": false
   },
   "outputs": [
    {
     "name": "stdout",
     "output_type": "stream",
     "text": [
      "Погрешность по правилу Рунге:\n",
      "Runge-Kutta 4 = 3.533076388902619e-06\n",
      "Runge-Kutta 3_1 = 0.00014258520422532378\n"
     ]
    }
   ],
   "source": [
    "ep_runge_4 = Epsilon_2(Runge_Kutta_4_h,Runge_Kutta_4_h2,p=4)\n",
    "ep_runge_3_1 = Epsilon_2(Runge_Kutta_3_1_h,Runge_Kutta_3_1_h2,p=3)\n",
    "\n",
    "print('Погрешность по правилу Рунге:')\n",
    "print(f'Runge-Kutta 4 = {ep_runge_4}')\n",
    "print(f'Runge-Kutta 3_1 = {ep_runge_3_1}')"
   ]
  },
  {
   "cell_type": "markdown",
   "id": "afdcd161",
   "metadata": {},
   "source": [
    "Находим уточнение решение используя погрешность из правила Рунге"
   ]
  },
  {
   "cell_type": "code",
   "execution_count": 23,
   "id": "d3ca5fe9",
   "metadata": {
    "scrolled": false
   },
   "outputs": [
    {
     "name": "stderr",
     "output_type": "stream",
     "text": [
      "/var/folders/bs/dggk1c6d42gcjhstkr9c_wp00000gn/T/ipykernel_52543/503980465.py:7: UserWarning: linestyle is redundantly defined by the 'linestyle' keyword argument and the fmt string \"-o\" (-> linestyle='-'). The keyword argument will take precedence.\n",
      "  plt.plot([t0 + i * h/2 for i in range(int((T-t0)/(h/2))+1)],\n",
      "/var/folders/bs/dggk1c6d42gcjhstkr9c_wp00000gn/T/ipykernel_52543/503980465.py:11: UserWarning: linestyle is redundantly defined by the 'linestyle' keyword argument and the fmt string \"-o\" (-> linestyle='-'). The keyword argument will take precedence.\n",
      "  plt.plot([t0 + i * h for i in range(int((T-t0)/h)+1)],\n"
     ]
    },
    {
     "data": {
      "image/png": "[encoded data removed]",
      "text/plain": [
       "<Figure size 1000x600 with 1 Axes>"
      ]
     },
     "metadata": {},
     "output_type": "display_data"
    }
   ],
   "source": [
    "clarification_runge_4 = Runge_Kutta_4_h2[::2] + runge_rule(Runge_Kutta_4_h, Runge_Kutta_4_h2,p=4)\n",
    "clarification_runge_3_1 = Runge_Kutta_3_1_h2[::2] + runge_rule(Runge_Kutta_3_1_h, Runge_Kutta_3_1_h2,p=3)\n",
    "\n",
    "plt.figure(figsize=(10, 6))\n",
    "plt.plot([t0 + i * h/2 for i in range(int((T-t0)/(h/2))+1)],\n",
    "         Runge_Kutta_4_h2,'-o',label='runge_4',color='g')\n",
    "plt.plot([t0 + i * h/2 for i in range(int((T-t0)/(h/2))+1)], \n",
    "         Runge_Kutta_3_1_h2,'-o',label='runge_3_1',linestyle='-.',color='y')\n",
    "plt.plot([t0 + i * h for i in range(int((T-t0)/h)+1)], \n",
    "         clarification_runge_4,'-o',label='clarification_runge_4',color='r')\n",
    "plt.plot([t0 + i * h for i in range(int((T-t0)/h)+1)], \n",
    "         clarification_runge_3_1,'-o',label='clarification_runge_3_1',linestyle='-.',color='b')\n",
    "\n",
    "    \n",
    "plt.xlabel('t')\n",
    "plt.ylabel('y')\n",
    "plt.legend()\n",
    "plt.show()"
   ]
  },
  {
   "cell_type": "markdown",
   "id": "2ff2571b",
   "metadata": {},
   "source": [
    "Графики совпали.\n",
    "\n",
    "Для наглядности посмотрим на разницу"
   ]
  },
  {
   "cell_type": "code",
   "execution_count": 24,
   "id": "5ca637e9",
   "metadata": {},
   "outputs": [
    {
     "name": "stdout",
     "output_type": "stream",
     "text": [
      "runge_3_1_h2, runge_4_h2\n",
      "1.0, 1.0, difference = 0.0\n",
      "1.0512702832295, 1.0512710812116743, difference = 7.97982174338685e-07\n",
      "1.1051691049784538, 1.1051708836720207, difference = 1.778693566878431e-06\n",
      "1.1618312080653945, 1.1618341841541924, difference = 2.976088797845833e-06\n",
      "1.2213982391536728, 1.2214026694611237, difference = 4.430307450897786e-06\n",
      "1.284019101842274, 1.2840252906862442, difference = 6.188843970189595e-06\n",
      "1.34985032768133, 1.3498586356325886, difference = 8.307951258501589e-06\n",
      "1.4190564659928568, 1.4190673203202409, difference = 1.0854327384013374e-05\n",
      "1.49181049341367, 1.4918244005594785, difference = 1.39071458085116e-05\n",
      "1.5682942441136472, 1.5683118046168059, difference = 1.756050315870894e-05\n",
      "1.6486988616779874, 1.6487207880533483, difference = 2.1926375360914463e-05\n",
      "1.7332252736761868, 1.733252411869974, difference = 2.71381937870796e-05\n",
      "1.8220846899722134, 1.8221180451510868, difference = 3.335517887337325e-05\n",
      "1.9154991258586727, 1.9155398934594405, difference = 4.0767600767877e-05\n",
      "2.0137019511211403, 2.0137515542976363, difference = 4.960317649604917e-05\n",
      "2.1169384661553794, 2.1169986010183064, difference = 6.01348629269971e-05\n",
      "2.225466506267437, 2.2255391966344553, difference = 7.269036701851306e-05\n",
      "2.33955707528147, 2.339644739054084, difference = 8.766377261393288e-05\n",
      "2.4594950095585957, 2.4596005393391773, difference = 0.00010552978058164797\n",
      "2.585579673486907, 2.585706534668397, difference = 0.00012686118148996783\n",
      "2.718125687431466, 2.7182780377654363, difference = 0.00015235033397020814\n"
     ]
    }
   ],
   "source": [
    "print(f'runge_3_1_h2, runge_4_h2')\n",
    "for i,j in zip(Runge_Kutta_3_1_h2, Runge_Kutta_4_h2):\n",
    "    print(f'{i}, {j}, difference = {abs(i-j)}')"
   ]
  },
  {
   "cell_type": "code",
   "execution_count": 25,
   "id": "90f91acf",
   "metadata": {
    "scrolled": true
   },
   "outputs": [
    {
     "name": "stdout",
     "output_type": "stream",
     "text": [
      "clarification_runge_3_1, clarification_runge_4\n",
      "1.0, 1.0, difference = 0.0\n",
      "1.1051707850151125, 1.1051709163177659, difference = 1.3130265341665392e-07\n",
      "1.2214024189117805, 1.2214027534311958, difference = 3.345194152792885e-07\n",
      "1.3498581571072636, 1.3498587980403685, difference = 6.409331048118361e-07\n",
      "1.491823585524379, 1.4918246805532043, difference = 1.095028825170985e-06\n",
      "1.6487194817085762, 1.6487212419848525, difference = 1.7602762762969348e-06\n",
      "1.8221160264240452, 1.8221187540331245, difference = 2.727609079267168e-06\n",
      "2.013748506669967, 2.013752634620967, difference = 4.127951000132413e-06\n",
      "2.225534665284384, 2.225540816149263, difference = 6.150864878762263e-06\n",
      "2.459593867675342, 2.4596029402210267, difference = 9.072545684496447e-06\n",
      "2.7182682726356915, 2.718281570841825, difference = 1.3298206133605106e-05\n"
     ]
    }
   ],
   "source": [
    "print(f'clarification_runge_3_1, clarification_runge_4')\n",
    "for i,j in zip(clarification_runge_3_1,clarification_runge_4):\n",
    "    print(f'{i}, {j}, difference = {abs(i-j)}')"
   ]
  },
  {
   "cell_type": "markdown",
   "id": "1beea0f5",
   "metadata": {},
   "source": [
    "    \n",
    "**Вывод:**\n",
    "    \n",
    "В данном задании проводилось сравнение методов Рунге-Кутта 4 порядка и Рунге-Кутта 3 порядка I на примере уравнения:\n",
    "    \n",
    "$$\\begin{equation*}\n",
    " \\begin{cases}\n",
    "   y' = -ty+(1+t)e^{-t}y^2 \\\\&t \\in [0,1]\\\\\n",
    "   y(0) = 1\n",
    " \\end{cases}\n",
    "\\end{equation*}$$\n",
    "    \n",
    "    \n",
    "Погрешности по правилу Рунге:\n",
    "    \n",
    "- Runge-Kutta 4 = 3.533076388902619e-06\n",
    "    \n",
    "- Runge-Kutta 3_1 = 0.00014258520422532378\n",
    "    \n",
    "После были получены уточненные решения с помощью правила рунге.\n",
    "    \n",
    "На графике уточненные решения совпали.\n",
    "    "
   ]
  },
  {
   "cell_type": "markdown",
   "id": "c0be1875",
   "metadata": {},
   "source": [
    "### 7.6.1"
   ]
  },
  {
   "cell_type": "markdown",
   "id": "61aafa5a",
   "metadata": {},
   "source": [
    "Даны две задачи Коши для систем ОДУ 1 порядка с постоянными коэффициентами на отрезке\n",
    "$[0, 1]$:\n",
    " $$Y'(t) = AY(t), Y(0) = Y_0$$\n",
    " $$Z'(t) = BZ(t), Z(0) = Z_0$$\n",
    "где $A$ и $B$ – заданные матрицы,\n",
    "$Y_0, Z_0$, - заданные векторы. Выяснить, какая из задач является жесткой.\n",
    "\n",
    " ПОРЯДОК РЕШЕНИЯ ЗАДАЧИ:\n",
    " \n",
    "1. Составить программу-функцию нахождения решения системы ОДУ 1 порядка с постоянными коэффициентами по явному методу Эйлера. Используя составленную программу, решить обе задачи с шагом $h=0.01$. Определить, для какой из задач явный метод неустойчив при данном шаге h.\n",
    "2. Используя встроенную функцию eigenvals(M) (M – матрица) для нахождения собственных чисел матриц A и B, найти коэффициенты жесткости обеих систем. Какая из задач является жесткой?\n",
    "3. Для жесткой задачи теоретически оценить шаг $h^*$, при котором явный метод Эйлера будет устойчив\n",
    "4. Составить программу-функцию нахождения решения системы ОДУ 1 порядка с постоянными коэффициентами по неявному методу Эйлера. Используя составленную программу, найти решение жесткой задачи с шагом h=0.01. Построить графики компонент полученного решения.\n",
    "5. Для жесткой задачи экспериментально подобрать шаг h, при котором графики компонент решения, полученного по явному методу Эйлера, визуально совпадают с графиками компонент решения, полученного по неявному методу с шагом h=0.01. Сравнить найденное значение шага с шагом h*. Объяснить различие поведения явного и неявного методов Эйлера при решении жесткой задачи.\n",
    "\n",
    "УКАЗАНИЕ. В п. 4 для решения системы линейных уравнений удобно использовать встроенную функцию\n",
    "lsolve пакета MATHCAD."
   ]
  },
  {
   "cell_type": "markdown",
   "id": "71406368",
   "metadata": {},
   "source": [
    "Задание:"
   ]
  },
  {
   "cell_type": "markdown",
   "id": "156c6462",
   "metadata": {},
   "source": [
    "$$A =\n",
    "\\begin{bmatrix}\n",
    "   -1.999& -0.019  \\\\\n",
    "   -0.063 & -1.051  \\\\\n",
    "\\end{bmatrix},\n",
    "$$\n",
    "$$\n",
    "Y_0 =\n",
    "\\begin{bmatrix}\n",
    "  0  \\\\\n",
    "  1 \\\\\n",
    "\\end{bmatrix},\n",
    "$$\n",
    "\n",
    "$$B =\n",
    "\\begin{bmatrix}\n",
    "   -10.85& 9.787  \\\\\n",
    "   32.515 & -499.55  \\\\\n",
    "\\end{bmatrix},\n",
    "$$\n",
    "$$\n",
    "Z_0 =\n",
    "\\begin{bmatrix}\n",
    "  1  \\\\\n",
    "  0 \\\\\n",
    "\\end{bmatrix},\n",
    "$$"
   ]
  },
  {
   "cell_type": "markdown",
   "id": "1def6381",
   "metadata": {},
   "source": [
    "Зададим матрицы из задания"
   ]
  },
  {
   "cell_type": "code",
   "execution_count": 26,
   "id": "24599e32",
   "metadata": {},
   "outputs": [],
   "source": [
    "A = np.array([[-1.999, -0.019], [-0.063, -1.051]]) \n",
    "y0 = np.array([0, 1])\n",
    "B = np.array([[-10.850, 9.787], [32.515, -499.55]]) \n",
    "z0 = np.array([1, 0])"
   ]
  },
  {
   "cell_type": "markdown",
   "id": "773ed835",
   "metadata": {},
   "source": [
    "Зададим условия задачи"
   ]
  },
  {
   "cell_type": "code",
   "execution_count": 27,
   "id": "0a1361a6",
   "metadata": {},
   "outputs": [],
   "source": [
    "t0 = 0.\n",
    "T = 1.\n",
    "h = 0.01"
   ]
  },
  {
   "cell_type": "markdown",
   "id": "8c9e5f31",
   "metadata": {},
   "source": [
    "### 1) Явный метод Эйлера"
   ]
  },
  {
   "cell_type": "markdown",
   "id": "2fa434af",
   "metadata": {},
   "source": [
    "Реализуем явный метод Эйлера"
   ]
  },
  {
   "cell_type": "code",
   "execution_count": 28,
   "id": "6d7aeaef",
   "metadata": {},
   "outputs": [],
   "source": [
    "def Eyler_matrix(A, y0, t0, T, h): \n",
    "    N = int((T - t0) / h)\n",
    "    y = [y0]\n",
    "    for i in range(N):\n",
    "        y.append(y[-1] + h * np.dot(A, y[-1]))\n",
    "    return np.array(y)"
   ]
  },
  {
   "cell_type": "markdown",
   "id": "db182229",
   "metadata": {},
   "source": [
    "Находим решение явным методом Эйлера"
   ]
  },
  {
   "cell_type": "code",
   "execution_count": 29,
   "id": "0db74368",
   "metadata": {},
   "outputs": [],
   "source": [
    "solution_A = Eyler_matrix(A, y0, t0, T, h) \n",
    "solution_B = Eyler_matrix(B, z0, t0, T, h)"
   ]
  },
  {
   "cell_type": "markdown",
   "id": "49a03c52",
   "metadata": {},
   "source": [
    "Определим устойчивость метода с помощью собственных значений матриц"
   ]
  },
  {
   "cell_type": "markdown",
   "id": "3cca8db6",
   "metadata": {},
   "source": [
    "$$h \\leq \\frac{2}{\\underset{i}{max}|Re\\lambda_i|}$$"
   ]
  },
  {
   "cell_type": "code",
   "execution_count": 30,
   "id": "0a9846d1",
   "metadata": {
    "scrolled": true
   },
   "outputs": [
    {
     "name": "stdout",
     "output_type": "stream",
     "text": [
      "Максимальное h для А = 0.9998695265576716, используемое h = 0.01, метод устойчив\n",
      "Максимальное h для B = 0.003998398244846978, используемое h = 0.01, метод НЕ устойчив\n"
     ]
    }
   ],
   "source": [
    "eigenvalues_A, eigenvector_A = np.linalg.eig(A)\n",
    "eigenvalues_B, eigenvector_B = np.linalg.eig(B)\n",
    "max_h_A = 2 / np.max(np.abs(eigenvalues_A))\n",
    "max_h_B = 2 / np.max(np.abs(eigenvalues_B))\n",
    "print(f'Максимальное h для А = {max_h_A}, используемое h = {h}, метод {\"не \" if max_h_A < h else \"\"}устойчив')\n",
    "print(f'Максимальное h для B = {max_h_B}, используемое h = {h}, метод {\"НЕ \" if max_h_B < h else \"\"}устойчив')"
   ]
  },
  {
   "cell_type": "markdown",
   "id": "2c572f94",
   "metadata": {},
   "source": [
    "### 2) Найдем жесткость "
   ]
  },
  {
   "cell_type": "markdown",
   "id": "8e0c8aab",
   "metadata": {},
   "source": [
    "Жесткость системы определяется:\n",
    "\n",
    "Пусть $Re\\lambda_k < 0$, тогда число жесткости системы\n",
    "$$s = \\frac{max|Re\\lambda_k|}{min|Re\\lambda_k|}$$\n",
    "Ситема устойчива если $$s >> 1$$"
   ]
  },
  {
   "cell_type": "code",
   "execution_count": 31,
   "id": "894d38e2",
   "metadata": {
    "scrolled": true
   },
   "outputs": [
    {
     "name": "stdout",
     "output_type": "stream",
     "text": [
      "Число жесткости S для А = 1.9054840723352096\n",
      "Число жесткости S для B = 49.04068551787617\n"
     ]
    }
   ],
   "source": [
    "print(f'Число жесткости S для А = {max(abs(eigenvalues_A))/min(abs(eigenvalues_A)) }')\n",
    "print(f'Число жесткости S для B = {max(abs(eigenvalues_B))/min(abs(eigenvalues_B)) }')"
   ]
  },
  {
   "cell_type": "markdown",
   "id": "2e9a6462",
   "metadata": {},
   "source": [
    "Система B - жесткая"
   ]
  },
  {
   "cell_type": "markdown",
   "id": "0d2cbd2b",
   "metadata": {},
   "source": [
    "### 3) При каком h* явный метод Эйлера для системы \"B\" будет устойчив"
   ]
  },
  {
   "cell_type": "markdown",
   "id": "895e4f41",
   "metadata": {},
   "source": [
    "см.п. 1"
   ]
  },
  {
   "cell_type": "code",
   "execution_count": 32,
   "id": "b8e33504",
   "metadata": {
    "scrolled": false
   },
   "outputs": [
    {
     "name": "stdout",
     "output_type": "stream",
     "text": [
      "Метод для системы B будет устойчивым при h <= 0.003998398244846978\n"
     ]
    }
   ],
   "source": [
    "print(f'Метод для системы B будет устойчивым при h <= {max_h_B}')"
   ]
  },
  {
   "cell_type": "markdown",
   "id": "c626c430",
   "metadata": {},
   "source": [
    "### 4) Неявный метод Эйлера для жесткой задачи"
   ]
  },
  {
   "cell_type": "markdown",
   "id": "6363bea2",
   "metadata": {},
   "source": [
    "Неявный метод Эйлера"
   ]
  },
  {
   "cell_type": "code",
   "execution_count": 33,
   "id": "7f652ebd",
   "metadata": {},
   "outputs": [],
   "source": [
    "def implicit_euler(A, y0, t0, T, h):\n",
    "    N = int((T - t0) / h)\n",
    "    y = [y0]\n",
    "    for i in range(N):\n",
    "        def equation(y_next):\n",
    "            return y[-1] + h*np.dot(A, y_next) - y_next\n",
    "        y.append(fsolve(equation, y[-1]))\n",
    "    return np.array(y)"
   ]
  },
  {
   "cell_type": "code",
   "execution_count": 34,
   "id": "18a76bf3",
   "metadata": {},
   "outputs": [],
   "source": [
    "t_list = [t0 + i * h for i in range(int((T-t0)/h)+1)]\n",
    "impl_solution_B = implicit_euler(B, z0, t0, T, h)"
   ]
  },
  {
   "cell_type": "markdown",
   "id": "b6a93f0e",
   "metadata": {},
   "source": [
    "Построим графики"
   ]
  },
  {
   "cell_type": "code",
   "execution_count": 35,
   "id": "a4d9d9be",
   "metadata": {
    "scrolled": false
   },
   "outputs": [
    {
     "data": {
      "image/png": "[encoded data removed]",
      "text/plain": [
       "<Figure size 1000x500 with 2 Axes>"
      ]
     },
     "metadata": {},
     "output_type": "display_data"
    }
   ],
   "source": [
    "plt.figure(figsize=(10,5))\n",
    "plt.subplot(1, 2, 1)  \n",
    "plt.plot(t_list, impl_solution_B[:, 0],label='Первая компонента решения') \n",
    "plt.xlabel('t')\n",
    "plt.ylabel('y_0')\n",
    "plt.subplot(1, 2, 2)\n",
    "plt.plot(t_list, impl_solution_B[:, 1],label='Вторая компонента решения') \n",
    "plt.xlabel('t')\n",
    "plt.ylabel('y_1')\n",
    "plt.suptitle('Графики компонент решения неявного метода')\n",
    "plt.tight_layout()\n",
    "plt.show()"
   ]
  },
  {
   "cell_type": "markdown",
   "id": "cbeba71e",
   "metadata": {},
   "source": [
    "### 5) Визуальный подбор h для жесткой задачи B"
   ]
  },
  {
   "cell_type": "markdown",
   "id": "a0f41ad3",
   "metadata": {},
   "source": [
    "Экспериментально подберем h"
   ]
  },
  {
   "cell_type": "markdown",
   "id": "c2aace4f",
   "metadata": {},
   "source": [
    "h = 0.01"
   ]
  },
  {
   "cell_type": "code",
   "execution_count": 36,
   "id": "26624c04",
   "metadata": {
    "scrolled": false
   },
   "outputs": [
    {
     "data": {
      "image/png": "[encoded data removed]",
      "text/plain": [
       "<Figure size 1000x500 with 2 Axes>"
      ]
     },
     "metadata": {},
     "output_type": "display_data"
    }
   ],
   "source": [
    "h_new = 0.01\n",
    "t_list_new = [t0 + i * h_new for i in range(int((T-t0)/h_new)+1)]\n",
    "solution_B_new_h = Eyler_matrix(B, z0, t0, T, h_new)\n",
    "\n",
    "plt.figure(figsize=(10,5))\n",
    "plt.subplot(1, 2, 1)  \n",
    "plt.plot(t_list, impl_solution_B[:, 0],label=f'неявный h = {h}', color='r') \n",
    "plt.plot(t_list_new, solution_B_new_h[:, 0],label=f'явный h = {h_new}', color='b') \n",
    "plt.xlabel('t')\n",
    "plt.ylabel('y_0')\n",
    "plt.legend()\n",
    "plt.subplot(1, 2, 2)\n",
    "plt.plot(t_list, impl_solution_B[:, 1],label=f'неявный h = {h}', color='r') \n",
    "plt.plot(t_list_new, solution_B_new_h[:, 1],label=f'явный h = {h_new}', color='b') \n",
    "plt.xlabel('t')\n",
    "plt.ylabel('y_1')\n",
    "plt.legend()\n",
    "plt.suptitle('Графики компонент решения неявного и явного методов')\n",
    "plt.tight_layout()\n",
    "\n",
    "plt.show()"
   ]
  },
  {
   "cell_type": "markdown",
   "id": "0ccf4b32",
   "metadata": {},
   "source": [
    "h = 0.001"
   ]
  },
  {
   "cell_type": "code",
   "execution_count": 37,
   "id": "642ec7d6",
   "metadata": {
    "scrolled": false
   },
   "outputs": [
    {
     "data": {
      "image/png": "[encoded data removed]",
      "text/plain": [
       "<Figure size 1000x500 with 2 Axes>"
      ]
     },
     "metadata": {},
     "output_type": "display_data"
    }
   ],
   "source": [
    "h_new = 0.001\n",
    "t_list_new = [t0 + i * h_new for i in range(int((T-t0)/h_new)+1)]\n",
    "solution_B_new_h = Eyler_matrix(B, z0, t0, T, h_new)\n",
    "\n",
    "plt.figure(figsize=(10,5))\n",
    "plt.subplot(1, 2, 1)  \n",
    "plt.plot(t_list, impl_solution_B[:, 0],label=f'неявный h = {h}', color='r') \n",
    "plt.plot(t_list_new, solution_B_new_h[:, 0],label=f'явный h = {h_new}', color='b') \n",
    "plt.xlabel('t')\n",
    "plt.ylabel('y_0')\n",
    "plt.legend()\n",
    "plt.subplot(1, 2, 2)\n",
    "plt.plot(t_list, impl_solution_B[:, 1],label=f'неявный h = {h}', color='r') \n",
    "plt.plot(t_list_new, solution_B_new_h[:, 1],label=f'явный h = {h_new}', color='b') \n",
    "plt.xlabel('t')\n",
    "plt.ylabel('y_1')\n",
    "plt.legend()\n",
    "plt.suptitle('Графики компонент решения неявного и явного методов')\n",
    "plt.tight_layout()\n",
    "\n",
    "plt.show()"
   ]
  },
  {
   "cell_type": "markdown",
   "id": "36b7f14a",
   "metadata": {},
   "source": [
    "h = max_h_B/2"
   ]
  },
  {
   "cell_type": "code",
   "execution_count": 38,
   "id": "51f3682f",
   "metadata": {},
   "outputs": [
    {
     "data": {
      "text/plain": [
       "0.001999199122423489"
      ]
     },
     "execution_count": 38,
     "metadata": {},
     "output_type": "execute_result"
    }
   ],
   "source": [
    "max_h_B/2"
   ]
  },
  {
   "cell_type": "code",
   "execution_count": null,
   "id": "0d828be7",
   "metadata": {
    "scrolled": false
   },
   "outputs": [],
   "source": [
    "h_new = 0.00000001\n",
    "t_list_new = [t0 + i * h_new for i in range(int((T-t0)/h_new)+1)]\n",
    "solution_B_new_h = Eyler_matrix(B, z0, t0, T, h_new)\n",
    "\n",
    "plt.figure(figsize=(10,5))\n",
    "plt.subplot(1, 2, 1)  \n",
    "plt.plot(t_list, impl_solution_B[:, 0],label=f'неявный h = {h}', color='r') \n",
    "plt.plot(t_list_new, solution_B_new_h[:, 0],label=f'явный h = {h_new}', color='b') \n",
    "plt.xlabel('t')\n",
    "plt.ylabel('y_0')\n",
    "plt.legend()\n",
    "plt.subplot(1, 2, 2)\n",
    "plt.plot(t_list, impl_solution_B[:, 1],label=f'неявный h = {h}', color='r') \n",
    "plt.plot(t_list_new, solution_B_new_h[:, 1],label=f'явный h = {h_new}', color='b') \n",
    "plt.xlabel('t')\n",
    "plt.ylabel('y_1')\n",
    "plt.legend()\n",
    "plt.suptitle('Графики компонент решения неявного и явного методов')\n",
    "plt.tight_layout()\n",
    "\n",
    "plt.show()"
   ]
  },
  {
   "cell_type": "markdown",
   "id": "21dafb3e",
   "metadata": {},
   "source": [
    "После подбора h* оба метода стали устойчивы."
   ]
  },
  {
   "cell_type": "markdown",
   "id": "2f163bbe",
   "metadata": {},
   "source": [
    "Неявный метод использует меньшее количество узлов сетки чем явный, но сам метод сложнее, так как используютсясторонняя оптимизация."
   ]
  },
  {
   "cell_type": "markdown",
   "id": "8cb2393a",
   "metadata": {},
   "source": [
    "___"
   ]
  },
  {
   "cell_type": "markdown",
   "id": "58cb0385",
   "metadata": {},
   "source": [
    "\n",
    "    \n",
    "**Вывод:**\n",
    "    \n",
    "В данном задании решались две задача Коши с матричными уравнениями:\n",
    "    \n",
    "$$Y'(t) = AY(t), Y(0) = Y_0$$\n",
    "$$Z'(t) = BZ(t), Z(0) = Z_0$$\n",
    "    \n",
    "Были определены уравнения на которых явный метод Эйлера устойчивый:\n",
    "\n",
    "- A - устойчивый\n",
    "- B - не устойчивый\n",
    "    \n",
    "Были определены жесткие задачи:\n",
    "    \n",
    "- A - нежесткая\n",
    "- B - жесткая\n",
    "    \n",
    "Найден шаг h при котором B устойчива: h <= 0.003998398244846978\n",
    "                                                              \n",
    "Подобран шаг h* при котором графики компонент решения явной задачи с h* и неявной с h = 0.01 совпадают: h* = 0.001999199122423489\n",
    "                                                              \n"
   ]
  },
  {
   "cell_type": "code",
   "execution_count": null,
   "id": "00d07160",
   "metadata": {},
   "outputs": [],
   "source": []
  }
 ],
 "metadata": {
  "kernelspec": {
   "display_name": "Python 3 (ipykernel)",
   "language": "python",
   "name": "python3"
  },
  "language_info": {
   "codemirror_mode": {
    "name": "ipython",
    "version": 3
   },
   "file_extension": ".py",
   "mimetype": "text/x-python",
   "name": "python",
   "nbconvert_exporter": "python",
   "pygments_lexer": "ipython3",
   "version": "3.8.5"
  }
 },
 "nbformat": 4,
 "nbformat_minor": 5
}
