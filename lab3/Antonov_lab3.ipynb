{
 "cells": [
  {
   "cell_type": "markdown",
   "id": "17895cf8",
   "metadata": {},
   "source": [
    "## Антонов Матвей БПМ201"
   ]
  },
  {
   "cell_type": "markdown",
   "id": "1673ebbe",
   "metadata": {},
   "source": [
    "#### Лабораторная работа 3"
   ]
  },
  {
   "cell_type": "markdown",
   "id": "069da273",
   "metadata": {},
   "source": [
    "#### Вариант 2 (3.1.2, 3.4, 3.9.1**)"
   ]
  },
  {
   "cell_type": "code",
   "execution_count": 1,
   "id": "e2404e97",
   "metadata": {},
   "outputs": [],
   "source": [
    "import numpy as np\n",
    "import matplotlib.pyplot as plt"
   ]
  },
  {
   "cell_type": "markdown",
   "id": "e62bd293",
   "metadata": {},
   "source": [
    "### Задание 3.1.2"
   ]
  },
  {
   "cell_type": "markdown",
   "id": "37b2c1b2",
   "metadata": {},
   "source": [
    "Дана система уравнений $Ax=b$ порядка n. Исследовать зависимость погрешности решения x от\n",
    "погрешностей правой части системы b.\n",
    "\n",
    "$$ b_i = 2 $$\n",
    "$$ c = c_{ij} = 0.1 \\cdot 2 \\cdot i \\cdot j $$\n",
    "$$ a_{ij} = \\frac{125}{(4 + c*0.25)^{6}} $$\n",
    "$$n = 6$$\n"
   ]
  },
  {
   "cell_type": "markdown",
   "id": "6db919d5",
   "metadata": {},
   "source": [
    "Размерность по условию задачи:"
   ]
  },
  {
   "cell_type": "code",
   "execution_count": 2,
   "id": "9319c47d",
   "metadata": {},
   "outputs": [],
   "source": [
    "n = 6\n",
    "N = 2."
   ]
  },
  {
   "cell_type": "markdown",
   "id": "d4f64dce",
   "metadata": {},
   "source": [
    "Задаем матрицу из условия:"
   ]
  },
  {
   "cell_type": "code",
   "execution_count": 3,
   "id": "52af36a0",
   "metadata": {
    "scrolled": true
   },
   "outputs": [
    {
     "name": "stdout",
     "output_type": "stream",
     "text": [
      "[[0.02832565 0.02631521 0.02446929 0.02277269 0.02121175 0.01977422]\n",
      " [0.02631521 0.02277269 0.01977422 0.01722638 0.01505341 0.01319359]\n",
      " [0.02446929 0.01977422 0.01609719 0.01319359 0.01088299 0.00903095]\n",
      " [0.02277269 0.01722638 0.01319359 0.01022028 0.008      0.00632252]\n",
      " [0.02121175 0.01505341 0.01088299 0.008      0.00596972 0.00451579]\n",
      " [0.01977422 0.01319359 0.00903095 0.00632252 0.00451579 0.00328354]]\n"
     ]
    }
   ],
   "source": [
    "A = np.matrix([[0.]*n]*n)\n",
    "for i in range(n):\n",
    "    for j in range(n):\n",
    "        c = 0.1 * N * (i+1) * (j+1)\n",
    "        a = 125 / (4 + c * 0.25)**6\n",
    "        A[i,j] = a\n",
    "print(A)"
   ]
  },
  {
   "cell_type": "markdown",
   "id": "459d5c9e",
   "metadata": {},
   "source": [
    "Задаем вектор b:"
   ]
  },
  {
   "cell_type": "code",
   "execution_count": 4,
   "id": "c0a8ef99",
   "metadata": {},
   "outputs": [
    {
     "name": "stdout",
     "output_type": "stream",
     "text": [
      "[2. 2. 2. 2. 2. 2.]\n"
     ]
    }
   ],
   "source": [
    "B = np.array([N]*n)\n",
    "print(B)"
   ]
  },
  {
   "cell_type": "markdown",
   "id": "d02bdd9e",
   "metadata": {},
   "source": [
    "Решаем СЛАУ встроенной функцией в библиотеку numpy"
   ]
  },
  {
   "cell_type": "code",
   "execution_count": 5,
   "id": "b773dc4e",
   "metadata": {},
   "outputs": [
    {
     "name": "stdout",
     "output_type": "stream",
     "text": [
      "x1 = 634.552557243269\n",
      "x2 = -2489.2676172019196\n",
      "x3 = 5081.290441866896\n",
      "x4 = -5708.307027722463\n",
      "x5 = 3353.92805891674\n",
      "x6 = -806.7718615076051\n"
     ]
    }
   ],
   "source": [
    "X = np.linalg.solve(A, B)\n",
    "for i,k in enumerate(X):\n",
    "    print(\"x\",i+1,\" = \", k, sep=\"\")"
   ]
  },
  {
   "cell_type": "markdown",
   "id": "6c3ace19",
   "metadata": {},
   "source": [
    "Считаем число обуссловленности матрицы:"
   ]
  },
  {
   "cell_type": "code",
   "execution_count": 6,
   "id": "353b1758",
   "metadata": {},
   "outputs": [
    {
     "data": {
      "text/plain": [
       "8445338.835179731"
      ]
     },
     "execution_count": 6,
     "metadata": {},
     "output_type": "execute_result"
    }
   ],
   "source": [
    "Acond = np.linalg.cond(A)\n",
    "Acond"
   ]
  },
  {
   "cell_type": "markdown",
   "id": "9bdaf88b",
   "metadata": {},
   "source": [
    "Считаем вектор d:"
   ]
  },
  {
   "cell_type": "code",
   "execution_count": 7,
   "id": "5c69aa48",
   "metadata": {},
   "outputs": [
    {
     "name": "stdout",
     "output_type": "stream",
     "text": [
      "d1 = 0.2282280272509529\n",
      "d2 = 1.7061174325576016\n",
      "d3 = 4.980945196521629\n",
      "d4 = 7.119917487255385\n",
      "d5 = 4.99527222214765\n",
      "d6 = 1.3789105261071215\n"
     ]
    }
   ],
   "source": [
    "d = [0]*n\n",
    "tol = 10**(-3)\n",
    "\n",
    "for i in range(n):\n",
    "    B[i] += tol\n",
    "    Xi = np.linalg.solve(A, B)\n",
    "    B[i] -= tol\n",
    "    d[i] = (max(abs(X-Xi))) / (max(abs(X)))\n",
    "\n",
    "for i,k in enumerate(d):\n",
    "    print(\"d\",i+1,\" = \", k, sep=\"\")"
   ]
  },
  {
   "cell_type": "markdown",
   "id": "c97bb6e2",
   "metadata": {},
   "source": [
    "Строим гистограмму:"
   ]
  },
  {
   "cell_type": "code",
   "execution_count": 8,
   "id": "b1ca455d",
   "metadata": {},
   "outputs": [
    {
     "data": {
      "image/png": "[encoded data removed]",
      "text/plain": [
       "<Figure size 480x480 with 1 Axes>"
      ]
     },
     "metadata": {},
     "output_type": "display_data"
    }
   ],
   "source": [
    "plt.figure(figsize=(6,6), dpi= 80)\n",
    "plt.bar([1,2,3,4,5,6], d);"
   ]
  },
  {
   "cell_type": "markdown",
   "id": "1c89c2c8",
   "metadata": {},
   "source": [
    "Видно, что наибольшее влияние оказывает 4ая компонента"
   ]
  },
  {
   "cell_type": "code",
   "execution_count": 9,
   "id": "5ac6de59",
   "metadata": {},
   "outputs": [],
   "source": [
    "ni = 3"
   ]
  },
  {
   "cell_type": "code",
   "execution_count": 10,
   "id": "1dc51a00",
   "metadata": {},
   "outputs": [],
   "source": [
    "Bm = np.array([2.]*n)\n",
    "Bm[ni] += tol"
   ]
  },
  {
   "cell_type": "code",
   "execution_count": 11,
   "id": "76e1b6c2",
   "metadata": {},
   "outputs": [
    {
     "data": {
      "text/plain": [
       "7.119917487255385"
      ]
     },
     "execution_count": 11,
     "metadata": {},
     "output_type": "execute_result"
    }
   ],
   "source": [
    "Xm = np.linalg.solve(A, Bm)\n",
    "deltaX = (max(abs(X-Xm))) / (max(abs(X)))\n",
    "deltaX"
   ]
  },
  {
   "cell_type": "code",
   "execution_count": 12,
   "id": "2d4e1ed7",
   "metadata": {},
   "outputs": [
    {
     "data": {
      "text/plain": [
       "0.0004999999999999449"
      ]
     },
     "execution_count": 12,
     "metadata": {},
     "output_type": "execute_result"
    }
   ],
   "source": [
    "deltaB = (max(abs(B-Bm))) / (max(abs(B)))\n",
    "deltaB"
   ]
  },
  {
   "cell_type": "code",
   "execution_count": 13,
   "id": "95237bb5",
   "metadata": {},
   "outputs": [
    {
     "data": {
      "text/plain": [
       "8445338.835179731"
      ]
     },
     "execution_count": 13,
     "metadata": {},
     "output_type": "execute_result"
    }
   ],
   "source": [
    "Acond"
   ]
  },
  {
   "cell_type": "markdown",
   "id": "b6878155",
   "metadata": {},
   "source": [
    "Оцениваем теоретическую погрешность\n",
    "\n",
    "$\\delta(x^5) \\leq cond(A)*\\delta(b^5)$"
   ]
  },
  {
   "cell_type": "code",
   "execution_count": 14,
   "id": "d29692a1",
   "metadata": {},
   "outputs": [
    {
     "name": "stdout",
     "output_type": "stream",
     "text": [
      "True\n"
     ]
    }
   ],
   "source": [
    "print(deltaX <= Acond * deltaB)"
   ]
  },
  {
   "cell_type": "markdown",
   "id": "d30daa55",
   "metadata": {},
   "source": [
    "### Задание 3.4"
   ]
  },
  {
   "cell_type": "markdown",
   "id": "58b0b65d",
   "metadata": {},
   "source": [
    "Решить систему уравнений $Ax=b$, используя LU-разложение матрицы A.\n",
    "\n",
    "Порядок решения:\n",
    "\n",
    "1. Получить LU- разложение матрицы A.\n",
    "\n",
    "2. Преобразовать вектор b по формулам прямого хода метода Гаусса. С помощью обратной подстановки найти решение системы x.\n",
    "\n",
    "УКАЗАНИЕ. Функция lu(A) возвращает матрицу, в которой содержатся матрицы P, L и U такие, что PA=LU\n",
    "(P- матрица перестановок)."
   ]
  },
  {
   "cell_type": "code",
   "execution_count": 16,
   "id": "09a57c60",
   "metadata": {},
   "outputs": [],
   "source": [
    "# LU-разложение матрицы\n",
    "def To_LU(a,n):\n",
    "    lu_matrix = np.matrix([[0.]*n]*n)\n",
    "    for k in range(n):\n",
    "        for j in range(k, n):\n",
    "            lu_matrix[k, j] = a[k, j] - lu_matrix[k, :k] * lu_matrix[:k, j]\n",
    "        for i in range(k + 1, n):\n",
    "            lu_matrix[i, k] = (a[i, k] - lu_matrix[i, : k] * lu_matrix[: k, k]) / lu_matrix[k, k]\n",
    "    return lu_matrix\n",
    "\n",
    "\n",
    "def get_L(m):\n",
    "    L = m.copy()\n",
    "    for i in range(L.shape[0]):\n",
    "            L[i, i] = 1\n",
    "            L[i, i+1 :] = 0\n",
    "    return np.matrix(L)\n",
    "\n",
    "\n",
    "def get_U(m):\n",
    "    U = m.copy()\n",
    "    for i in range(1, U.shape[0]):\n",
    "        U[i, :i] = 0\n",
    "    return U"
   ]
  },
  {
   "cell_type": "code",
   "execution_count": 17,
   "id": "53c1de92",
   "metadata": {},
   "outputs": [
    {
     "name": "stdout",
     "output_type": "stream",
     "text": [
      "L:\n",
      " [[1.         0.         0.         0.         0.         0.        ]\n",
      " [0.92902414 1.         0.         0.         0.         0.        ]\n",
      " [0.86385641 1.76640951 1.         0.         0.         0.        ]\n",
      " [0.80395992 2.34657519 2.50560884 1.         0.         0.        ]\n",
      " [0.74885297 2.77816307 4.20731137 3.15153208 1.         0.        ]\n",
      " [0.69810284 3.09123079 5.91617984 6.25812687 3.71600729 1.        ]] \n",
      "\n",
      "U:\n",
      " [[ 2.83256493e-02  2.63152120e-02  2.44692936e-02  2.27726867e-02\n",
      "   2.12117467e-02  1.97742163e-02]\n",
      " [ 0.00000000e+00 -1.67478051e-03 -2.95834822e-03 -3.92999838e-03\n",
      "  -4.65281337e-03 -5.17713307e-03]\n",
      " [ 0.00000000e+00  0.00000000e+00  1.84883775e-04  4.63246420e-04\n",
      "   7.77863609e-04  1.09380566e-03]\n",
      " [ 0.00000000e+00  0.00000000e+00  0.00000000e+00 -2.67297538e-05\n",
      "  -8.42396766e-05 -1.67278191e-04]\n",
      " [ 0.00000000e+00  0.00000000e+00  0.00000000e+00  0.00000000e+00\n",
      "   4.28747798e-06  1.59322995e-05]\n",
      " [ 0.00000000e+00  0.00000000e+00  0.00000000e+00  0.00000000e+00\n",
      "   0.00000000e+00 -6.92773450e-07]]\n"
     ]
    }
   ],
   "source": [
    "LU = To_LU(A,n)\n",
    "L = get_L(LU)\n",
    "U = get_U(LU)\n",
    "print(\"L:\\n\",L,\"\\n\\nU:\\n\", U)"
   ]
  },
  {
   "cell_type": "code",
   "execution_count": 18,
   "id": "a73518be",
   "metadata": {},
   "outputs": [
    {
     "data": {
      "text/plain": [
       "array([  634.55255726, -2489.26761733,  5081.29044225, -5708.30702829,\n",
       "        3353.92805933,  -806.77186163])"
      ]
     },
     "execution_count": 18,
     "metadata": {},
     "output_type": "execute_result"
    }
   ],
   "source": [
    "c = np.linalg.solve(L, B)\n",
    "Xlu = np.linalg.solve(U, c)\n",
    "Xlu"
   ]
  },
  {
   "cell_type": "code",
   "execution_count": 19,
   "id": "4c502ee4",
   "metadata": {},
   "outputs": [
    {
     "name": "stdout",
     "output_type": "stream",
     "text": [
      "634.552557243269    634.5525572587628\n",
      "-2489.2676172019196    -2489.267617325085\n",
      "5081.290441866896    5081.290442246418\n",
      "-5708.307027722463    -5708.307028291537\n",
      "3353.92805891674    3353.9280593333824\n",
      "-806.7718615076051    -806.7718616270931\n"
     ]
    }
   ],
   "source": [
    "for i in range(len(X)):\n",
    "    print(X[i], \"  \", Xlu[i])"
   ]
  },
  {
   "cell_type": "markdown",
   "id": "f05d3872",
   "metadata": {},
   "source": [
    "Как видно значения совпадают вплоть до порядка $10^{-6}$"
   ]
  },
  {
   "cell_type": "markdown",
   "id": "3a52c47a",
   "metadata": {},
   "source": [
    "### Задание 3.9.1 (3.5.1)\n",
    "\n",
    "Решить систему уравнений $Ax=b$ порядка n из задачи 3.5.1 методом Холецкого. Вычислить\n",
    "число обусловленности матрицы A.\n",
    "\n",
    "$$ n = 40$$\n",
    "$$m = 10 $$\n",
    "\n",
    "$$ b_i = n*i+m $$"
   ]
  },
  {
   "cell_type": "code",
   "execution_count": 20,
   "id": "3151fde4",
   "metadata": {},
   "outputs": [],
   "source": [
    "n = 40\n",
    "m = 10\n",
    "A = np.matrix([[0.]*n]*n)"
   ]
  },
  {
   "cell_type": "code",
   "execution_count": 21,
   "id": "28d86340",
   "metadata": {},
   "outputs": [],
   "source": [
    "for i in range(n):\n",
    "    for j in range(n):\n",
    "        if i == j:\n",
    "            A[i,j] = n + m**2 + j/m + i/n\n",
    "        else:\n",
    "            A[i,j] = (i+j) / (m+n)"
   ]
  },
  {
   "cell_type": "code",
   "execution_count": 29,
   "id": "d4217909",
   "metadata": {},
   "outputs": [
    {
     "name": "stdout",
     "output_type": "stream",
     "text": [
      "[  50   90  130  170  210  250  290  330  370  410  450  490  530  570\n",
      "  610  650  690  730  770  810  850  890  930  970 1010 1050 1090 1130\n",
      " 1170 1210 1250 1290 1330 1370 1410 1450 1490 1530 1570 1610]\n"
     ]
    }
   ],
   "source": [
    "b = np.array([n*i+m for i in range(1,n+1)])\n",
    "print(b)"
   ]
  },
  {
   "cell_type": "markdown",
   "id": "f2c3368f",
   "metadata": {},
   "source": [
    "По разложению Холецкого:\n",
    "    \n",
    "$LL^{T} - A = 0$ где L = cholesky(A)"
   ]
  },
  {
   "cell_type": "code",
   "execution_count": 30,
   "id": "17a7dc9c",
   "metadata": {},
   "outputs": [
    {
     "name": "stdout",
     "output_type": "stream",
     "text": [
      "[[1.18321596e+01 0.00000000e+00 0.00000000e+00 ... 0.00000000e+00\n",
      "  0.00000000e+00 0.00000000e+00]\n",
      " [1.69030851e-03 1.18374405e+01 0.00000000e+00 ... 0.00000000e+00\n",
      "  0.00000000e+00 0.00000000e+00]\n",
      " [3.38061702e-03 5.06818056e-03 1.18427177e+01 ... 0.00000000e+00\n",
      "  0.00000000e+00 0.00000000e+00]\n",
      " ...\n",
      " [6.25414148e-02 6.41941378e-02 6.58179349e-02 ... 1.20146745e+01\n",
      "  0.00000000e+00 0.00000000e+00]\n",
      " [6.42317234e-02 6.58834509e-02 6.75055310e-02 ... 1.01759462e-01\n",
      "  1.20190418e+01 0.00000000e+00]\n",
      " [6.59220319e-02 6.75727640e-02 6.91931271e-02 ... 1.03024790e-01\n",
      "  1.03365269e-01 1.20233757e+01]]\n"
     ]
    }
   ],
   "source": [
    "L = np.linalg.cholesky(A)\n",
    "print(L)"
   ]
  },
  {
   "cell_type": "code",
   "execution_count": 31,
   "id": "db95a49f",
   "metadata": {},
   "outputs": [
    {
     "name": "stdout",
     "output_type": "stream",
     "text": [
      "[  4.22577127   7.60239152  10.97275027  14.33446498  17.68517857\n",
      "  21.02256657  24.34434422  27.64827314  30.93216787  34.19390198\n",
      "  37.43141387  40.64271214  43.82588062  46.97908284  50.10056619\n",
      "  53.18866549  56.24180616  59.25850686  62.23738168  65.17714185\n",
      "  68.07659695  70.93465566  73.75032615  76.52271587  79.25103109\n",
      "  81.93457598  84.57275129  87.16505275  89.71106916  92.21048008\n",
      "  94.66305342  97.06864266  99.42718395 101.73869299 104.00326177\n",
      " 106.2210552  108.39230759 110.51731914 112.59645232 114.63012822]\n"
     ]
    }
   ],
   "source": [
    "y = np.linalg.solve(L, b)\n",
    "print(y)"
   ]
  },
  {
   "cell_type": "code",
   "execution_count": 34,
   "id": "c2c7656a",
   "metadata": {},
   "outputs": [
    {
     "name": "stdout",
     "output_type": "stream",
     "text": [
      "[-0.35162356 -0.0923031   0.16670286  0.42539488  0.68377353  0.94183939\n",
      "  1.19959302  1.45703499  1.71416586  1.9709862   2.22749657  2.48369753\n",
      "  2.73958963  2.99517344  3.25044952  3.50541842  3.76008069  4.01443688\n",
      "  4.26848756  4.52223326  4.77567454  5.02881194  5.28164601  5.5341773\n",
      "  5.78640635  6.0383337   6.28995989  6.54128546  6.79231096  7.04303691\n",
      "  7.29346385  7.54359232  7.79342286  8.04295598  8.29219223  8.54113214\n",
      "  8.78977622  9.03812501  9.28617904  9.53393883]\n"
     ]
    }
   ],
   "source": [
    "x_chol = np.linalg.solve(np.transpose(L), y)\n",
    "print(x_chol)"
   ]
  },
  {
   "cell_type": "code",
   "execution_count": 35,
   "id": "ba5cb2ab",
   "metadata": {},
   "outputs": [
    {
     "data": {
      "text/plain": [
       "1.271208486915936"
      ]
     },
     "execution_count": 35,
     "metadata": {},
     "output_type": "execute_result"
    }
   ],
   "source": [
    "np.linalg.cond(A)"
   ]
  },
  {
   "cell_type": "code",
   "execution_count": 36,
   "id": "6ea36964",
   "metadata": {},
   "outputs": [],
   "source": [
    "X = np.linalg.solve(A, b)"
   ]
  },
  {
   "cell_type": "code",
   "execution_count": 38,
   "id": "c5f1ac90",
   "metadata": {},
   "outputs": [
    {
     "name": "stdout",
     "output_type": "stream",
     "text": [
      "[ True  True  True  True  True  True  True  True  True  True  True  True\n",
      "  True  True  True  True  True  True  True  True  True  True  True  True\n",
      "  True  True  True  True  True  True  True  True  True  True  True  True\n",
      "  True  True  True  True]\n"
     ]
    }
   ],
   "source": [
    "print(x == x_chol)"
   ]
  },
  {
   "cell_type": "code",
   "execution_count": null,
   "id": "26393383",
   "metadata": {},
   "outputs": [],
   "source": []
  }
 ],
 "metadata": {
  "kernelspec": {
   "display_name": "Python 3 (ipykernel)",
   "language": "python",
   "name": "python3"
  },
  "language_info": {
   "codemirror_mode": {
    "name": "ipython",
    "version": 3
   },
   "file_extension": ".py",
   "mimetype": "text/x-python",
   "name": "python",
   "nbconvert_exporter": "python",
   "pygments_lexer": "ipython3",
   "version": "3.8.5"
  }
 },
 "nbformat": 4,
 "nbformat_minor": 5
}
