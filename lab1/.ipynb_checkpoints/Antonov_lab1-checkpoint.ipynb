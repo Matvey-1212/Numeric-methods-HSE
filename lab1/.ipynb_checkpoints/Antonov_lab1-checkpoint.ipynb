{
 "cells": [
  {
   "cell_type": "markdown",
   "id": "f445b590",
   "metadata": {},
   "source": [
    "### Задача 1.1.11"
   ]
  },
  {
   "cell_type": "markdown",
   "id": "82d5e561",
   "metadata": {},
   "source": [
    "Постановка задачи:  дан ряд $\\sum_{n=0}^{\\infty}\\frac{36}{11(n^2+5n+4)}$. Найти сумму  ряда  S  аналитически.  Вычислить значения частичных  сумм  ряда $S_{N}=\\sum_{n=0}^{N}a_{n}$ и найти величину погрешности  при значениях  N = $10, 10^2, 10^3,10^4, 10^5$.Построить гистограмму зависимости  верных цифр  результата от N."
   ]
  },
  {
   "cell_type": "markdown",
   "id": "8e211acd",
   "metadata": {},
   "source": [
    "**Аналитечсоке решение задачи**:"
   ]
  },
  {
   "cell_type": "markdown",
   "id": "69746a24",
   "metadata": {},
   "source": [
    "1) $S_{N}=\\sum_{n=0}^{N}\\frac{36}{11(n^2+5n+4)}$ = $\\frac{36}{11}\\sum_{n=0}^{N}\\frac{1}{(n+4)(n+1)}$\n",
    "\n",
    "\n",
    "\n",
    "2) $\\frac{1}{(n+4)(n+1)}$ = $\\frac{1}{3}(\\frac{1}{n+1}-\\frac{1}{n+4})$\n",
    "\n",
    "\n",
    "\n",
    "3) $S_{N}=\\sum_{n=0}^{N}\\frac{36}{11(n^2+5n+4)}$ = $\\frac{36}{33}\\sum_{n=0}^{N}(\\frac{1}{n+1}-\\frac{1}{n+4})$\n",
    "\n",
    "\n",
    "4) $S_{N}=\\frac{36}{33}((1-\\frac{1}{4})+(\\frac{1}{2}-\\frac{1}{5})+(\\frac{1}{3}-\\frac{1}{6})+(\\frac{1}{4}-\\frac{1}{7})+(\\frac{1}{5}-\\frac{1}{8})+$....$+(\\frac{1}{n+1}-\\frac{1}{n+4})+(\\frac{1}{n+2}-\\frac{1}{n+5})+(\\frac{1}{3}-\\frac{1}{n+6}))$\n",
    "\n",
    "\n",
    "5) S  = $\\lim_{N \\rightarrow \\infty}S_{N} = \\frac{36}{33}\\lim_{N\\rightarrow \\infty}(1+\\frac{1}{2}+\\frac{1}{3}-\\frac{1}{n+4}-\\frac{1}{n+5}-\\frac{1}{n+6}) = \\frac{36}{33}*\\frac{11}{6} = 2$\n",
    "\n",
    "Ответ: S = $\\sum_{n=0}^{N}\\frac{36}{11(n^2+5n+4)} = 2$"
   ]
  },
  {
   "cell_type": "markdown",
   "id": "e73b8aed",
   "metadata": {},
   "source": [
    "**Теоретичекий материал**. Пусть $\\alpha$ - точное значение, $\\alpha^*$ приближенное значение некоторой величины. Абсолютной  погрешностью приближенного значения $\\alpha^*$ называется величина $\\Delta(\\alpha^*) = |\\alpha - \\alpha^*|$. Относительной погрешностью значения $\\alpha^*$(при $\\alpha\\neq0$) называется величина $\\delta(\\alpha^*) = \\frac{\\Delta(\\alpha*)}{|\\alpha|}$. Так как значение $\\alpha$ как правило неизвестно, чаще получают оценки погрешностей вида: $|\\alpha - \\alpha*| \\leqslant \\vec{\\Delta(\\alpha^*)}$. Величины $\\vec{\\Delta(\\alpha^*)}$ и $\\vec{\\delta(\\alpha^*)}$ называют верхними границами (или просто границами) абсолютной и относительной погрешностей. \n",
    "\n",
    "Значащую цифру числа $\\alpha^*$ называют верной, если абсолютная погрешность числа не превосходит единицы разряда, соответствующего этой цифре. \n",
    "\n",
    "Введем  функцию S(N) = $\\sum_{n=0}^{N}\\frac{36}{11(n^2+5n+4)}$. Тогда  абсолютную погрешность можно определить с помощью  функции $d(N) = |S(N) - S|$."
   ]
  },
  {
   "cell_type": "code",
   "execution_count": 2,
   "id": "97962e4c",
   "metadata": {},
   "outputs": [],
   "source": [
    "import numpy as np\n",
    "import matplotlib.pyplot as plt\n",
    "from matplotlib.pyplot import bar\n",
    "import pandas as pd"
   ]
  },
  {
   "cell_type": "code",
   "execution_count": 2,
   "id": "9ce1385a",
   "metadata": {},
   "outputs": [],
   "source": [
    "def NumericalSum(Nlist):\n",
    "    res_list = []\n",
    "    for k,n in enumerate(Nlist):\n",
    "        res = 0\n",
    "        for i in range(0, n + 1):\n",
    "            res += 36 / 11 * (1 / (i ** 2 + 5 * i + 4))\n",
    "        res_list.append(res)\n",
    "    return res_list"
   ]
  },
  {
   "cell_type": "code",
   "execution_count": 3,
   "id": "d71bfb5c",
   "metadata": {},
   "outputs": [
    {
     "name": "stdout",
     "output_type": "stream",
     "text": [
      "S(10) = 1.747252747252747263\n",
      "S(100) = 1.968223951947538186\n",
      "S(1000) = 1.996737059380343293\n",
      "S(10000) = 1.999672825422923017\n",
      "S(100000) = 1.999967273709071236\n",
      "\n",
      "\n",
      "|S(10) - S| = 0.252747252747252737\n",
      "|S(100) - S| = 0.031776048052461814\n",
      "|S(1000) - S| = 0.003262940619656707\n",
      "|S(10000) - S| = 0.000327174577076983\n",
      "|S(100000) - S| = 0.000032726290928764\n"
     ]
    }
   ],
   "source": [
    "N = np.array([10,10**2,10**3,10**4,10**5])\n",
    "\n",
    "res = NumericalSum(N)\n",
    "\n",
    "for i,k in enumerate(res):\n",
    "    print(\"S(\",10**(i+1),\") = \",'{0:.18f}'.format(k),sep='')\n",
    "print(\"\\n\")\n",
    "\n",
    "dif = []\n",
    "for i,k in enumerate(res):\n",
    "    dif.append(abs(2 - k))\n",
    "    print(\"|S(\",10**(i+1),\") - S| = \",'{0:.18f}'.format(abs(2 - k)),sep='')"
   ]
  },
  {
   "cell_type": "markdown",
   "id": "75974784",
   "metadata": {},
   "source": [
    "| Частичная сумма ряда | Абсолютная погрешность  | Количество верных цифр |\n",
    "|-------------------------------|----------------------------------|------------------------|\n",
    "| S(10) = 1.747252747252747263  | 0.252747252747252737             | $M_1$ = 1              |\n",
    "| S(100) = 1.968223951947538186  | 0.031776048052461814            | $M_2$ = 2              |\n",
    "| S(1000) = 1.996737059380343293 | 0.003262940619656707            | $M_3$ = 3              |\n",
    "| S(10000) = 1.999672825422923017 | 0.000327174577076983           | $M_4$ = 4              |\n",
    "| S(100000) = 1.999967273709071236| 0.000032726290928764           | $M_5$ = 5              |"
   ]
  },
  {
   "cell_type": "markdown",
   "id": "b5d7c6a8",
   "metadata": {},
   "source": [
    "**Гистограмма**"
   ]
  },
  {
   "cell_type": "code",
   "execution_count": 7,
   "id": "83c07c18",
   "metadata": {},
   "outputs": [
    {
     "data": {
      "image/png": "[encoded data removed]",
      "text/plain": [
       "<Figure size 480x400 with 1 Axes>"
      ]
     },
     "metadata": {},
     "output_type": "display_data"
    }
   ],
   "source": [
    "plt.figure(figsize=(6,5), dpi= 80)\n",
    "plt.bar(['10', '100', '1000', '10000', '100000'], [1, 2, 3, 4, 5])\n",
    "\n",
    "plt.show()"
   ]
  },
  {
   "cell_type": "markdown",
   "id": "d1840374",
   "metadata": {},
   "source": [
    "Вывод: Как видно из приведенного вычислительного эксперимента,  увеличение числа членов ряда в 10 раз по сравнению с предыдущим случаем увеличивает число верных цифр в ответе на 1."
   ]
  },
  {
   "cell_type": "markdown",
   "id": "ce898486",
   "metadata": {},
   "source": [
    "### Задача 1.3.1"
   ]
  },
  {
   "cell_type": "markdown",
   "id": "f1a9c139",
   "metadata": {},
   "source": [
    "\\begin{equation*}\n",
    "A = \\left(\n",
    "\\begin{array}{cccc}\n",
    "2 & 16 & -6 \\\\\n",
    "3 & 24 & 5 \\\\\n",
    "1 & 8  & 11  \n",
    "\\end{array}\n",
    "\\right)\n",
    "\\end{equation*}\n",
    "\n",
    "Для заданной матрицы A найти обратную матрицу (если это возможно). Затем в\n",
    "элемент a11 внести погрешность в 10% и снова найти обратную матрицу. Объяснить полученные 11\n",
    "результаты.\n",
    "\n",
    "**Решение**:\n"
   ]
  },
  {
   "cell_type": "code",
   "execution_count": 5,
   "id": "40eb127a",
   "metadata": {},
   "outputs": [
    {
     "data": {
      "text/plain": [
       "0.0"
      ]
     },
     "execution_count": 5,
     "metadata": {},
     "output_type": "execute_result"
    }
   ],
   "source": [
    "matrixA = np.array([[2,16,-6],\n",
    "                    [3,24,5],\n",
    "                    [1,8,11]])\n",
    "np.linalg.det(matrixA)\n"
   ]
  },
  {
   "cell_type": "markdown",
   "id": "c8172064",
   "metadata": {},
   "source": [
    "Определитель равен нулю, следовательно обратная матрица не существует"
   ]
  },
  {
   "cell_type": "markdown",
   "id": "c60847ed",
   "metadata": {},
   "source": [
    "Зададим погрешность +-10% в элемент a11"
   ]
  },
  {
   "cell_type": "code",
   "execution_count": 6,
   "id": "23ec17ad",
   "metadata": {},
   "outputs": [
    {
     "name": "stdout",
     "output_type": "stream",
     "text": [
      "44.80000000000004\n"
     ]
    },
    {
     "data": {
      "text/plain": [
       "-44.80000000000004"
      ]
     },
     "execution_count": 6,
     "metadata": {},
     "output_type": "execute_result"
    }
   ],
   "source": [
    "matrixA1 = np.array([[2+2*0.1,16,-6],\n",
    "                    [3,24,5],\n",
    "                    [1,8,11]])\n",
    "print(np.linalg.det(matrixA1))\n",
    "\n",
    "\n",
    "matrixA2 = np.array([[2-2*0.1,16,-6],\n",
    "                    [3,24,5],\n",
    "                    [1,8,11]])\n",
    "(np.linalg.det(matrixA2))\n",
    "\n"
   ]
  },
  {
   "cell_type": "markdown",
   "id": "001369e7",
   "metadata": {},
   "source": [
    "При добавлении к элементу а11 погрeшности в 10% определитель ненулевой"
   ]
  },
  {
   "cell_type": "code",
   "execution_count": 7,
   "id": "6dd357e2",
   "metadata": {},
   "outputs": [
    {
     "name": "stdout",
     "output_type": "stream",
     "text": [
      "[[ 5.         -5.          5.        ]\n",
      " [-0.625       0.67410714 -0.64732143]\n",
      " [ 0.         -0.03571429  0.10714286]]\n",
      "\n",
      "[[-5.          5.         -5.        ]\n",
      " [ 0.625      -0.57589286  0.60267857]\n",
      " [ 0.         -0.03571429  0.10714286]]\n",
      "\n",
      "[[False  True  True]\n",
      " [ True  True  True]\n",
      " [ True  True  True]]\n"
     ]
    }
   ],
   "source": [
    "print(np.linalg.inv(matrixA1))\n",
    "print(\"\")\n",
    "print(np.linalg.inv(matrixA2))\n",
    "print(\"\")\n",
    "print(matrixA1 == matrixA2)"
   ]
  },
  {
   "cell_type": "markdown",
   "id": "5512dde4",
   "metadata": {},
   "source": [
    "Видно что обратные матрицы почти совпадают, кроме элемента а11, который отличается знаком"
   ]
  },
  {
   "cell_type": "markdown",
   "id": "a8aac29e",
   "metadata": {},
   "source": [
    "### Задача 1.6-1.7 "
   ]
  },
  {
   "cell_type": "markdown",
   "id": "97685fed",
   "metadata": {},
   "source": [
    "Вычислить значения машинного нуля, машинной бесконечности, машинного  эпсилон в режимах  одинарной, двойной и расширенной точности на двух алгоритмических языках"
   ]
  },
  {
   "cell_type": "markdown",
   "id": "5edaa8fe",
   "metadata": {},
   "source": [
    "#### Машинная бесконечность"
   ]
  },
  {
   "cell_type": "code",
   "execution_count": 8,
   "id": "c1b845e8",
   "metadata": {},
   "outputs": [
    {
     "name": "stdout",
     "output_type": "stream",
     "text": [
      "float: 2^128\n",
      "double: 2^1024\n",
      "long double: 2^16384\n"
     ]
    },
    {
     "name": "stderr",
     "output_type": "stream",
     "text": [
      "/var/folders/bs/dggk1c6d42gcjhstkr9c_wp00000gn/T/ipykernel_57668/3351516962.py:14: RuntimeWarning: overflow encountered in double_scalars\n",
      "  res_d *= 2\n",
      "/var/folders/bs/dggk1c6d42gcjhstkr9c_wp00000gn/T/ipykernel_57668/3351516962.py:18: RuntimeWarning: overflow encountered in longdouble_scalars\n",
      "  res_ld *= 2\n"
     ]
    }
   ],
   "source": [
    "res_f = np.single(2) #одинарная\n",
    "res_d = np.double(2) # двойная\n",
    "res_ld = np.longdouble(2)#расширенная точночть\n",
    "\n",
    "inf_f = 1\n",
    "inf_d = 1\n",
    "inf_ld = 1\n",
    "\n",
    "while res_f < np.finfo(np.single).max:\n",
    "    res_f *= 2\n",
    "    inf_f += 1\n",
    "    \n",
    "while res_d < np.finfo(np.double).max:\n",
    "    res_d *= 2\n",
    "    inf_d += 1\n",
    "    \n",
    "while res_ld < np.finfo(np.longdouble).max:\n",
    "    res_ld *= 2\n",
    "    inf_ld += 1\n",
    "    \n",
    "print(\"float: 2^\", inf_f, sep='')\n",
    "print(\"double: 2^\", inf_d, sep='')\n",
    "print(\"long double: 2^\", inf_ld, sep='')"
   ]
  },
  {
   "cell_type": "markdown",
   "id": "9caf0a2a",
   "metadata": {},
   "source": [
    "#### Машинный ноль"
   ]
  },
  {
   "cell_type": "code",
   "execution_count": 9,
   "id": "1304f959",
   "metadata": {},
   "outputs": [
    {
     "name": "stdout",
     "output_type": "stream",
     "text": [
      "float: 2^-150\n",
      "double: 2^-1075\n",
      "long double: 2^-16446\n"
     ]
    }
   ],
   "source": [
    "res_f = np.single(1)\n",
    "res_d = np.double(1)\n",
    "res_ld = np.longdouble(1)\n",
    "\n",
    "z_f = 0\n",
    "z_d = 0\n",
    "z_ld = 0\n",
    "\n",
    "while res_f != 0:\n",
    "    res_f = np.single(res_f/2)\n",
    "    z_f -= 1\n",
    "    \n",
    "while res_d != 0:\n",
    "    res_d = np.double(res_d/2)\n",
    "    z_d -= 1\n",
    "\n",
    "while res_ld != 0:\n",
    "    res_ld = np.longdouble(res_ld/2)\n",
    "    z_ld -= 1\n",
    "\n",
    "print(\"float: 2^\", z_f, sep='')\n",
    "print(\"double: 2^\", z_d, sep='')\n",
    "print(\"long double: 2^\", z_ld, sep='')"
   ]
  },
  {
   "cell_type": "markdown",
   "id": "78c73390",
   "metadata": {},
   "source": [
    "#### Машинное эпсилон"
   ]
  },
  {
   "cell_type": "code",
   "execution_count": 10,
   "id": "932b6dc9",
   "metadata": {},
   "outputs": [
    {
     "name": "stdout",
     "output_type": "stream",
     "text": [
      "float: 2^-24\n",
      "double: 2^-53\n",
      "long double: 2^-64\n"
     ]
    }
   ],
   "source": [
    "res_f = np.single(1)\n",
    "res_d = np.double(1)\n",
    "res_ld = np.longdouble(1)\n",
    "\n",
    "e_f = 0\n",
    "e_d = 0\n",
    "e_ld = 0\n",
    "\n",
    "while np.single(1) + res_f > np.single(1):\n",
    "    res_f = np.single(res_f/2)\n",
    "    e_f -= 1\n",
    "    \n",
    "while np.double(1) + res_d > np.double(1):\n",
    "    res_d = np.double(res_d/2)\n",
    "    e_d -= 1\n",
    "\n",
    "while np.longdouble(1) + res_ld > np.longdouble(1):\n",
    "    res_ld = np.longdouble(res_ld/2)\n",
    "    e_ld -= 1\n",
    "    \n",
    "print(\"float: 2^\", e_f, sep='')\n",
    "print(\"double: 2^\", e_d, sep='')\n",
    "print(\"long double: 2^\", e_ld, sep='')"
   ]
  },
  {
   "cell_type": "markdown",
   "id": "bcaa655e",
   "metadata": {},
   "source": [
    "|                                        | **C++**   | **Python** |\n",
    "|----------------------------------------|-----------|------------|\n",
    "| Машинная бесконечность для float       | 2^128     | 2^128      |\n",
    "| Машинная бесконечность для double      | 2^1024    | 2^1024     |\n",
    "| Машинная бесконечность для long double | 2^16384   | 2^16384    |\n",
    "|----------------------------------------|-----------|------------|\n",
    "| Машинный ноль для float                | 2^(-150)  | 2^(-150)   |\n",
    "| Машинный ноль для double               | 2^(-1075) | 2^(-1075)  |\n",
    "| Машинный ноль для long double          | 2^(-16446)| 2^(-16446) |\n",
    "|----------------------------------------|-----------|------------|\n",
    "| Машинный эпсилон для float             | 2^(-24)   | 2^(-24)    |\n",
    "| Машинный эпсилон для double            | 2^(-53)   | 2^(-53)    |\n",
    "| Машинный эпсилон для long double       | 2^(-64)   | 2^(-64)    |"
   ]
  },
  {
   "cell_type": "markdown",
   "id": "a7a8def4",
   "metadata": {},
   "source": [
    "Как видно, машинный ноль, бесконечность и эпсилон на Python и на C++ совпадают(MacOS)"
   ]
  },
  {
   "cell_type": "code",
   "execution_count": null,
   "id": "566f4b79",
   "metadata": {},
   "outputs": [],
   "source": [
    "#include <iostream>\n",
    "#include <math.h>\n",
    "#include <limits>\n",
    "\n",
    "int main() {\n",
    "    float res_f = 2;\n",
    "    double res_d = 2;\n",
    "    long double res_ld = 2;\n",
    "    int inf_f = 1, inf_d = 1, inf_ld = 1;\n",
    "    while(res_f < std::numeric_limits<float>::infinity()){\n",
    "        res_f *= 2;\n",
    "        inf_f++;\n",
    "    }\n",
    "    while(res_d < std::numeric_limits<float>::infinity()){\n",
    "        res_d *= 2;\n",
    "        inf_d++;\n",
    "    }\n",
    "    while(res_ld < std::numeric_limits<float>::infinity()){\n",
    "        res_ld *= 2;\n",
    "        inf_ld++;\n",
    "    }\n",
    "    std::cout << \"Машинная бесконечность:\" << std::endl;\n",
    "    std::cout << \"float: 2^\" << inf_f << std::endl;\n",
    "    std::cout << \"double: 2^\" << inf_d << std::endl;\n",
    "    std::cout << \"long double: 2^\" << inf_ld << std::endl;\n",
    "    std::cout << std::endl;\n",
    "\n",
    "    res_f = 1;\n",
    "    res_d = 1;\n",
    "    res_ld = 1;\n",
    "    int z_f = 0, z_d = 0, z_ld = 0;\n",
    "    while(res_f != 0) {\n",
    "        res_f /= 2;\n",
    "        z_f--;\n",
    "    }\n",
    "    while(res_d != 0) {\n",
    "        res_d /= 2;\n",
    "        z_d--;\n",
    "    }\n",
    "    while(res_ld != 0) {\n",
    "        res_ld /= 2;\n",
    "        z_ld--;\n",
    "    }\n",
    "\n",
    "    std::cout << \"Машинный ноль:\" << std::endl;\n",
    "    std::cout << \"float: 2^\" << z_f << std::endl;\n",
    "    std::cout << \"double: 2^\" << z_d << std::endl;\n",
    "    std::cout << \"long double: 2^\" << z_ld << std::endl;\n",
    "    std::cout << std::endl;\n",
    "\n",
    "    res_f = 1;\n",
    "    res_d = 1;\n",
    "    res_ld = 1;\n",
    "    int e_f = 0, e_d = 0, e_ld = 0;\n",
    "    while(1 + res_f > 1) {\n",
    "        res_f /= 2;\n",
    "        e_f--;\n",
    "    }\n",
    "    while(1 + res_d > 1) {\n",
    "        res_d /= 2;\n",
    "        e_d--;\n",
    "    }\n",
    "    while(1 + res_ld > 1) {\n",
    "        res_ld /= 2;\n",
    "        e_ld--;\n",
    "    }\n",
    "    std::cout << \"Машинный эпсилон:\" << std::endl;\n",
    "    std::cout << \"float: 2^\" << e_f << std::endl;\n",
    "    std::cout << \"double: 2^\" << e_d << std::endl;\n",
    "    std::cout << \"long double: 2^\" << e_ld << std::endl;\n",
    "    std::cout << std::endl;\n",
    "}"
   ]
  },
  {
   "cell_type": "code",
   "execution_count": null,
   "id": "9e7012c4",
   "metadata": {},
   "outputs": [],
   "source": [
    "Машинная бесконечность:\n",
    "float: 2^128\n",
    "double: 2^1024\n",
    "long double: 2^16384\n",
    "\n",
    "Машинный ноль:\n",
    "float: 2^-150\n",
    "double: 2^-1075\n",
    "long double: 2^-16446\n",
    "\n",
    "Машинный эпсилон:\n",
    "float: 2^-24\n",
    "double: 2^-53\n",
    "long double: 2^-64"
   ]
  },
  {
   "cell_type": "markdown",
   "id": "056b7e48",
   "metadata": {},
   "source": [
    "### Задача 1.10.2"
   ]
  },
  {
   "cell_type": "markdown",
   "id": "a4ab9c37",
   "metadata": {},
   "source": [
    "\\begin{equation*}\n",
    "a1 = \\left(\n",
    "\\begin{array}{cccc}\n",
    "-2 & -5 & 13 \n",
    "\\end{array}\n",
    "\\right)\n",
    "\\end{equation*}\n",
    "\n",
    "\\begin{equation*}\n",
    "a2 = \\left(\n",
    "\\begin{array}{cccc}\n",
    "14.2 & 11.2 & 28 \n",
    "\\end{array}\n",
    "\\right)\n",
    "\\end{equation*}\n",
    "\n",
    "\\begin{equation*}\n",
    "a3 = \\left(\n",
    "\\begin{array}{cccc}\n",
    "0 & -3 & 15 \n",
    "\\end{array}\n",
    "\\right)\n",
    "\\end{equation*}\n",
    "\n",
    "$\\alpha = 0.5$\n",
    "$ \\beta=0.1$\n",
    "\n",
    "Три вектора a1 , a2 , a3 заданы своими координатами в базисе i , j , k . Что можно сказать о компланарности этих векторов, если: 1) координаты векторов 2) координаты векторов заданы приближённо с относительной погрешностью а) $\\delta= \\alpha$% ; б) $\\delta = \\beta$%."
   ]
  },
  {
   "cell_type": "code",
   "execution_count": 9,
   "id": "64e06b9e",
   "metadata": {},
   "outputs": [],
   "source": [
    "def shange_spin_list(spin): \n",
    "    for i in range(len(spin)):\n",
    "        if spin[i] == -1:\n",
    "            spin[i] = 1\n",
    "        else:\n",
    "            spin[i] = -1 \n",
    "            break\n",
    "    return spin\n",
    "\n",
    "def changeVector(b,change_list,alpha):\n",
    "    b = np.concatenate(b, axis=0)\n",
    "    for i,k in enumerate(change_list):\n",
    "        if k == -1:\n",
    "            b[i] = b[i]-b[i]*alpha\n",
    "        elif k == 1:\n",
    "            b[i] = b[i]+b[i]*alpha\n",
    "    b.resize(3,3)\n",
    "    return b\n",
    "    \n",
    "    "
   ]
  },
  {
   "cell_type": "code",
   "execution_count": 10,
   "id": "1ece93d4",
   "metadata": {},
   "outputs": [
    {
     "data": {
      "text/plain": [
       "7.2000000000000455"
      ]
     },
     "execution_count": 10,
     "metadata": {},
     "output_type": "execute_result"
    }
   ],
   "source": [
    "a1 = np.array([-2 , -5 , 13])\n",
    "a2 = np.array([14.2 , 11.2 , 28 ])\n",
    "a3 = np.array([0 , -3 , 15 ])\n",
    "\n",
    "np.dot(np.cross(a1, a2), a3)"
   ]
  },
  {
   "cell_type": "markdown",
   "id": "e8798092",
   "metadata": {},
   "source": [
    "Видно, что смешанное произведение не нравно нулю, следовательно вектора некомпланарны"
   ]
  },
  {
   "cell_type": "markdown",
   "id": "a5887db0",
   "metadata": {},
   "source": [
    "Внесем погрешность в $\\alpha = 0.5$ в каждый элемент"
   ]
  },
  {
   "cell_type": "code",
   "execution_count": 16,
   "id": "dbebbdea",
   "metadata": {},
   "outputs": [
    {
     "name": "stdout",
     "output_type": "stream",
     "text": [
      "min = -2414.7 \n",
      "min = 3239.6999999999994\n"
     ]
    }
   ],
   "source": [
    "a1 = np.array([-2 , -5 , 13])\n",
    "a2 = np.array([14.2 , 11.2 , 28 ])\n",
    "a3 = np.array([0 , -3 , 15 ])\n",
    "\n",
    "main_list = np.array([a1,a2,a3])\n",
    "second_list = main_list.copy()\n",
    "\n",
    "zero_list = np.ones(9)\n",
    "comp = 0\n",
    "noncomp = 0\n",
    "\n",
    "det_list = []\n",
    "\n",
    "for i in range(2**9):\n",
    "    zero_list = shange_spin_list(zero_list)\n",
    "    main_list = second_list\n",
    "    main_list = changeVector(main_list,zero_list,0.5)\n",
    "    \n",
    "    \n",
    "    \n",
    "    \n",
    "    det_list.append(np.dot(np.cross(main_list[0], main_list[1]), main_list[2]))\n",
    "    \n",
    "print(\"min =\", min(det_list), \"\\nmin =\",max(det_list))"
   ]
  },
  {
   "cell_type": "markdown",
   "id": "f68025a5",
   "metadata": {},
   "source": [
    "В промежутке от min до max есть 0, следовательно вектора могут быть компланарны"
   ]
  },
  {
   "cell_type": "markdown",
   "id": "50f1fb00",
   "metadata": {},
   "source": [
    "Внесем погрешность в $\\beta = 0.5$ в каждый элемент"
   ]
  },
  {
   "cell_type": "code",
   "execution_count": 17,
   "id": "44270477",
   "metadata": {},
   "outputs": [
    {
     "name": "stdout",
     "output_type": "stream",
     "text": [
      "min = -416.2152 \n",
      "min = 502.23119999999994\n"
     ]
    }
   ],
   "source": [
    "a1 = np.array([-2 , -5 , 13])\n",
    "a2 = np.array([14.2 , 11.2 , 28 ])\n",
    "a3 = np.array([0 , -3 , 15 ])\n",
    "\n",
    "main_list = np.array([a1,a2,a3])\n",
    "second_list = main_list.copy()\n",
    "\n",
    "zero_list = np.ones(9)\n",
    "comp = 0\n",
    "noncomp = 0\n",
    "\n",
    "det_list = []\n",
    "\n",
    "for i in range(2**9):\n",
    "    zero_list = shange_spin_list(zero_list)\n",
    "    main_list = second_list\n",
    "    main_list = changeVector(main_list,zero_list,0.1)\n",
    "    \n",
    "    \n",
    "    \n",
    "    \n",
    "    det_list.append(np.dot(np.cross(main_list[0], main_list[1]), main_list[2]))\n",
    "    \n",
    "print(\"min =\", min(det_list), \"\\nmin =\",max(det_list))"
   ]
  },
  {
   "cell_type": "markdown",
   "id": "9b6ef859",
   "metadata": {},
   "source": [
    "В промежутке от min до max есть 0, следовательно вектора могут быть компланарны"
   ]
  }
 ],
 "metadata": {
  "kernelspec": {
   "display_name": "Python 3 (ipykernel)",
   "language": "python",
   "name": "python3"
  },
  "language_info": {
   "codemirror_mode": {
    "name": "ipython",
    "version": 3
   },
   "file_extension": ".py",
   "mimetype": "text/x-python",
   "name": "python",
   "nbconvert_exporter": "python",
   "pygments_lexer": "ipython3",
   "version": "3.8.5"
  }
 },
 "nbformat": 4,
 "nbformat_minor": 5
}
