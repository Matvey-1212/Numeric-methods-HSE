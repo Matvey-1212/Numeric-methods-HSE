{
 "cells": [
  {
   "cell_type": "markdown",
   "id": "17895cf8",
   "metadata": {},
   "source": [
    "## Антонов Матвей БПМ201"
   ]
  },
  {
   "cell_type": "markdown",
   "id": "1673ebbe",
   "metadata": {},
   "source": [
    "#### Лабораторная работа 2"
   ]
  },
  {
   "cell_type": "markdown",
   "id": "069da273",
   "metadata": {},
   "source": [
    "#### Вариант 2 (2.1.2; 2.3.1; 2.9.1)"
   ]
  },
  {
   "cell_type": "code",
   "execution_count": 1,
   "id": "b7af4f0f",
   "metadata": {},
   "outputs": [],
   "source": [
    "#импортим все необходимые библиотеки\n",
    "import matplotlib.pyplot as plt\n",
    "import numpy as np\n",
    "import scipy.optimize as scp"
   ]
  },
  {
   "cell_type": "markdown",
   "id": "4d88a54e",
   "metadata": {},
   "source": [
    "##### № 2.1.2\n",
    "\n",
    "\n",
    "Даны два уравнения f(x)=0 и g(x)=0. Найти с точностью $ \\epsilon = 10^{-10}$ все корни уравнений, содержащиеся на отрезке [a, b]\n",
    "Для решения задачи использовать метод бисекции.\n",
    "ПОРЯДОК РЕШЕНИЯ ЗАДАЧИ:\n",
    "1. Найти аналитическое решение уравнения f(x)=0.\n",
    "2. Локализовать корни f(x)=0 графически.\n",
    "3. Найти корни уравнения f(x)=0 с точностью $ \\epsilon$ с помощью метода бисекции.\n",
    "4. Найти корни уравнения f(x)=0 с точностью $ \\epsilon$ с помощью встроенных функций python. \n",
    "5. Аналогично п. 1-4 попытаться найти корни уравнения g(x)=0. Объяснить полученные результаты.\n",
    "\n",
    "\n",
    "**f(x)** = $sin(x)^{2} + \\frac{7}{12}sin(x) + \\frac{1}{12}$ \n",
    "\n",
    "**g(x)** = $sin(x)^{2} + \\frac{2}{3}sin(x) + \\frac{1}{9}$ \n",
    "\n",
    "**[a, b]** = [-1, 0]"
   ]
  },
  {
   "cell_type": "code",
   "execution_count": 2,
   "id": "9704645c",
   "metadata": {},
   "outputs": [],
   "source": [
    "#объявим функции для задания  2.1.2\n",
    "def funcf(x):\n",
    "    return np.sin(x)**2+(7/12)*np.sin(x)+(1/12)\n",
    "\n",
    "def funcg(x):\n",
    "    return np.sin(x)**2+(2/3)*np.sin(x)+(1/9)"
   ]
  },
  {
   "cell_type": "markdown",
   "id": "2ddde128",
   "metadata": {},
   "source": [
    "#### 1) Решим f(x):\n",
    "Сделаем замену $s = sin(x)$\n",
    "\n",
    "Тогда $F(s) = s^{2} + \\frac{7}{12}s + \\frac{1}{12}$ \n",
    "\n",
    "Получаем корни: $s_{1} = -\\frac{1}{4} s_{2} = -\\frac{1}{3}$\n",
    "\n",
    "Возвращаемся к замене. Получаем корни:\n",
    "\n",
    "$sin(x_{1})=s_{1}$\n",
    "\n",
    "$sin(x_{2})=s_{2}$\n",
    "\n",
    "Тогда:\n",
    "\n",
    "$x_{11} \\approx -0.25268 + 2\\pi n$ $n \\in Z$\n",
    "\n",
    "$x_{12} \\approx 3,39427 + 2\\pi n$ $n \\in Z$\n",
    "\n",
    "$x_{21} \\approx -0.339837 + 2\\pi n$ $n \\in Z$\n",
    "\n",
    "$x_{22} \\approx 3,48143 + 2\\pi n$ $n \\in Z$"
   ]
  },
  {
   "cell_type": "markdown",
   "id": "3fe1545f",
   "metadata": {},
   "source": [
    "#### 2) локализуем графически"
   ]
  },
  {
   "cell_type": "code",
   "execution_count": 3,
   "id": "296cad29",
   "metadata": {},
   "outputs": [
    {
     "data": {
      "image/png": "[encoded data removed]",
      "text/plain": [
       "<Figure size 1000x500 with 1 Axes>"
      ]
     },
     "metadata": {},
     "output_type": "display_data"
    }
   ],
   "source": [
    "x = np.linspace(-1, 0, 50)\n",
    "x1 = -0.25268\n",
    "x2 = -0.339837\n",
    "\n",
    "plt.figure(figsize=(10, 5))\n",
    "plt.scatter([x1,x2],[0,0],color='red')\n",
    "plt.plot(x, funcf(x))\n",
    "\n",
    "ax = plt.gca()\n",
    "ax.axhline(y=0, color='black')\n",
    "ax.axvline(x=0, color='black');"
   ]
  },
  {
   "cell_type": "markdown",
   "id": "5ab29de1",
   "metadata": {},
   "source": [
    "#### 3) метод бисекций"
   ]
  },
  {
   "cell_type": "code",
   "execution_count": 4,
   "id": "9c5457cc",
   "metadata": {},
   "outputs": [],
   "source": [
    "def bisec(left,right, tol,func):\n",
    "    if np.sign(func(left)) == np.sign(func(right)):\n",
    "        print(\"ERROR\")\n",
    "        return\n",
    "    a = left\n",
    "    b = right\n",
    "    c = a\n",
    "    while (np.abs(func(c)) >= tol):\n",
    "        c = (a+b)/2\n",
    "        if (func(c) == 0.0):\n",
    "            break\n",
    "        if (np.sign(func(b)) == np.sign(func(c))):\n",
    "            b = c\n",
    "        elif (np.sign(func(a)) == np.sign(func(c))):\n",
    "            a = c\n",
    "             \n",
    "    print(\"Полученное значение: \",c,\"на промежутке [\",left,\",\",right,\"]\")"
   ]
  },
  {
   "cell_type": "code",
   "execution_count": 5,
   "id": "f5922562",
   "metadata": {},
   "outputs": [
    {
     "name": "stdout",
     "output_type": "stream",
     "text": [
      "Полученное значение:  -0.33983691036701197 на промежутке [ -0.4 , -0.3 ]\n"
     ]
    }
   ],
   "source": [
    "a = -0.4\n",
    "b = -0.3\n",
    "bisec(a, b,10**(-10),funcf)"
   ]
  },
  {
   "cell_type": "code",
   "execution_count": 6,
   "id": "49469963",
   "metadata": {},
   "outputs": [
    {
     "name": "stdout",
     "output_type": "stream",
     "text": [
      "Полученное значение:  -0.2526802539825439 на промежутке [ -0.3 , -0.2 ]\n"
     ]
    }
   ],
   "source": [
    "a = -0.3\n",
    "b = -0.2\n",
    "bisec(a, b,10**(-10),funcf)"
   ]
  },
  {
   "cell_type": "markdown",
   "id": "ee83d2eb",
   "metadata": {},
   "source": [
    "#### 4) найдем корни с точностью $\\epsilon$"
   ]
  },
  {
   "cell_type": "code",
   "execution_count": 7,
   "id": "faffc418",
   "metadata": {},
   "outputs": [
    {
     "data": {
      "text/plain": [
       "-0.33983690945412215"
      ]
     },
     "execution_count": 7,
     "metadata": {},
     "output_type": "execute_result"
    }
   ],
   "source": [
    "scp.root(funcf, -0.33, tol=10**-10).x[0]"
   ]
  },
  {
   "cell_type": "code",
   "execution_count": 8,
   "id": "cb732bf5",
   "metadata": {},
   "outputs": [
    {
     "data": {
      "text/plain": [
       "-0.2526802551420784"
      ]
     },
     "execution_count": 8,
     "metadata": {},
     "output_type": "execute_result"
    }
   ],
   "source": [
    "scp.root(funcf, -0.25, tol=10**-10).x[0]"
   ]
  },
  {
   "cell_type": "markdown",
   "id": "e5dcb05f",
   "metadata": {},
   "source": [
    "#### 1) Решим g(x):"
   ]
  },
  {
   "cell_type": "markdown",
   "id": "201a13f7",
   "metadata": {},
   "source": [
    "Сделаем замену $s = sin(x)$\n",
    "\n",
    "Тогда $F(s) = s^{2} + \\frac{2}{3}s + \\frac{1}{9}$ \n",
    "\n",
    "Получаем корни: $s = -\\frac{1}{3}$\n",
    "\n",
    "Возвращаемся к замене. Получаем корни:\n",
    "\n",
    "$sin(x)=s$\n",
    "\n",
    "Тогда:\n",
    "\n",
    "$x_{1} \\approx -0.339837 + 2\\pi n$ $n \\in Z$\n",
    "\n",
    "$x_{2} \\approx 3,48143 + 2\\pi n$ $n \\in Z$\n"
   ]
  },
  {
   "cell_type": "markdown",
   "id": "0bdb9d6a",
   "metadata": {},
   "source": [
    "#### 2) локализуем графически"
   ]
  },
  {
   "cell_type": "code",
   "execution_count": 9,
   "id": "9d068641",
   "metadata": {},
   "outputs": [
    {
     "data": {
      "image/png": "[encoded data removed]",
      "text/plain": [
       "<Figure size 1000x500 with 1 Axes>"
      ]
     },
     "metadata": {},
     "output_type": "display_data"
    }
   ],
   "source": [
    "x = np.linspace(-1, 0, 50)\n",
    "x1 = -0.339837\n",
    "\n",
    "plt.figure(figsize=(10, 5))\n",
    "plt.scatter([x1],[0],color='red')\n",
    "plt.plot(x, funcg(x))\n",
    "\n",
    "ax = plt.gca()\n",
    "ax.axhline(y=0, color='black')\n",
    "ax.axvline(x=0, color='black');"
   ]
  },
  {
   "cell_type": "markdown",
   "id": "a6e2bdbf",
   "metadata": {},
   "source": [
    "#### 3) метод бисекций"
   ]
  },
  {
   "cell_type": "code",
   "execution_count": 10,
   "id": "1a75ea4e",
   "metadata": {},
   "outputs": [
    {
     "name": "stdout",
     "output_type": "stream",
     "text": [
      "ERROR\n"
     ]
    }
   ],
   "source": [
    "a = -0.4\n",
    "b = -0.2\n",
    "bisec(a, b,10**(-10),funcg)"
   ]
  },
  {
   "cell_type": "markdown",
   "id": "b6119ca4",
   "metadata": {},
   "source": [
    "функция только касается оси X(следовательно на концах любого промежутка она будет одного знака), потому метод бисекций применить нельзя"
   ]
  },
  {
   "cell_type": "markdown",
   "id": "27f921e6",
   "metadata": {},
   "source": [
    "#### 4) найдем корни с точностью $\\epsilon$"
   ]
  },
  {
   "cell_type": "code",
   "execution_count": 11,
   "id": "180c0583",
   "metadata": {},
   "outputs": [
    {
     "data": {
      "text/plain": [
       "-0.33983690928017035"
      ]
     },
     "execution_count": 11,
     "metadata": {},
     "output_type": "execute_result"
    }
   ],
   "source": [
    "scp.root(funcg, -0.33, tol=10**-10).x[0]"
   ]
  },
  {
   "cell_type": "markdown",
   "id": "bc5eb4d0",
   "metadata": {},
   "source": [
    "##### № 2.3.1"
   ]
  },
  {
   "cell_type": "markdown",
   "id": "0fa9477c",
   "metadata": {},
   "source": [
    "Локализовать корни уравнения $f(x)=0$ и найти их с точностью $\\epsilon = 10^{-5}$, используя метод простой итерации. К виду $x=\\phi(x)$, удобному для итераций, уравнение $f(x)=0$ привести двумя способами.\n",
    "\n",
    "a) Преобразовать уравнение к виду $x=x-\\alpha f(x)$, где $\\alpha=2/(M+m)$, 0 < m <= f '(x) <= M , а x принадлежит отрезку локализации [a, b].\n",
    "\n",
    "b) Любым другим преобразованием уравнения. \n",
    "\n",
    "Проверить достаточное условие сходимости метода. \n",
    "\n",
    "Использовать критерий окончания итерационного процесса вида $| x^{n} - x^{n-1} |< \\frac{1-q}{q}\\epsilon$ , где \n",
    "\n",
    "в п. a) q=(M-m)/(M+m)\n",
    "\n",
    "в п. b) q = $max(\\phi'(x))$ где $x \\in[a,b]$\n",
    "\n",
    "Сравнить число итераций и значения величины q в п. a), b)."
   ]
  },
  {
   "cell_type": "markdown",
   "id": "5d933559",
   "metadata": {},
   "source": [
    "$f(x) = sin(x)+2x^{2}+4x$"
   ]
  },
  {
   "cell_type": "code",
   "execution_count": 12,
   "id": "33ba922f",
   "metadata": {},
   "outputs": [],
   "source": [
    "#объявим функции для задания  2.3.1\n",
    "def f(x):\n",
    "    return np.sin(x)+2*x**2+4*x\n",
    "def f1(x):\n",
    "    return np.cos(x)+4*x+4\n"
   ]
  },
  {
   "cell_type": "code",
   "execution_count": 13,
   "id": "d5932f3f",
   "metadata": {},
   "outputs": [
    {
     "data": {
      "image/png": "[encoded data removed]",
      "text/plain": [
       "<Figure size 1000x500 with 1 Axes>"
      ]
     },
     "metadata": {},
     "output_type": "display_data"
    }
   ],
   "source": [
    "x = np.linspace(-5, 5, 300)\n",
    "\n",
    "\n",
    "plt.figure(figsize=(10, 5))\n",
    "plt.plot(x, f(x),color='red')\n",
    "plt.plot(x, f1(x),color='blue')\n",
    "\n",
    "ax = plt.gca()\n",
    "ax.axhline(y=0, color='black')\n",
    "ax.axvline(x=0, color='black');"
   ]
  },
  {
   "cell_type": "markdown",
   "id": "4599d2b2",
   "metadata": {},
   "source": [
    "Найдем приближенные корни"
   ]
  },
  {
   "cell_type": "code",
   "execution_count": 14,
   "id": "f8a60b0a",
   "metadata": {},
   "outputs": [
    {
     "name": "stdout",
     "output_type": "stream",
     "text": [
      "x1 = 0.0 \n",
      "x2 = -2.1866507832668214\n"
     ]
    }
   ],
   "source": [
    "x1 = scp.root(f, 0.5, tol=10**-5).x[0]\n",
    "x2 = scp.root(f, -2, tol=10**-5).x[0]\n",
    "\n",
    "print(\"x1 =\", x1, \"\\nx2 =\",x2)"
   ]
  },
  {
   "cell_type": "markdown",
   "id": "e816af0c",
   "metadata": {},
   "source": [
    "**a)** Преобразовать уравнение к виду $x=x-\\alpha f(x)$, где $\\alpha=2/(M+m)$, 0 < m <= f '(x) <= M , а x принадлежит отрезку локализации [a, b]."
   ]
  },
  {
   "cell_type": "code",
   "execution_count": 15,
   "id": "a708d79d",
   "metadata": {},
   "outputs": [],
   "source": [
    "def iter1(func, x_start, m, M, tol):\n",
    "    alpha = 2 / (m + M)\n",
    "    q = (M - m) / (M + m)\n",
    "    x = x_start\n",
    "    \n",
    "    x_n = x - alpha * func(x)\n",
    "    \n",
    "    while abs(x_n - x) >= (1 - q) / q * tol:\n",
    "        x = x_n\n",
    "        x_n = x - alpha * func(x)\n",
    "        \n",
    "        \n",
    "    return x_n"
   ]
  },
  {
   "cell_type": "code",
   "execution_count": 16,
   "id": "fb7195b0",
   "metadata": {},
   "outputs": [
    {
     "name": "stdout",
     "output_type": "stream",
     "text": [
      "0.000000002563460\n"
     ]
    }
   ],
   "source": [
    "start = 0.1\n",
    "a = -0.1\n",
    "b = 0.1\n",
    "\n",
    "print(\"%.15f\"%iter1(f, start,f1(a), f1(b), 10**-5))"
   ]
  },
  {
   "cell_type": "markdown",
   "id": "d416a507",
   "metadata": {},
   "source": [
    "Для нахождения второго корня отразим функцию относительно оси Х,чтобы производная функция на промежутке локализации была положительна"
   ]
  },
  {
   "cell_type": "code",
   "execution_count": 17,
   "id": "9c379fe9",
   "metadata": {},
   "outputs": [],
   "source": [
    "def g(x):\n",
    "    return -1*(np.sin(x)+2*x**2+4*x)\n",
    "def g1(x):\n",
    "    return -1*(np.cos(x)+4*x+4)"
   ]
  },
  {
   "cell_type": "code",
   "execution_count": 18,
   "id": "406541d3",
   "metadata": {},
   "outputs": [
    {
     "name": "stdout",
     "output_type": "stream",
     "text": [
      "-2.186650224954476\n"
     ]
    }
   ],
   "source": [
    "start = -2\n",
    "a = -1.5\n",
    "b = -2.5\n",
    "print(\"%.15f\"%iter1(g, start, g1(a), g1(b), 10**-5))"
   ]
  },
  {
   "cell_type": "markdown",
   "id": "a22fa486",
   "metadata": {},
   "source": [
    "**б)** Любым другим преобразованием уравнения. \n",
    "\n",
    "Преобразуем к виду $x = \\phi(x)$\n",
    "\n",
    "$x = -\\frac{1}{4}sin(x)-\\frac{1}{2}x^{2}$ "
   ]
  },
  {
   "cell_type": "code",
   "execution_count": 19,
   "id": "ffff202e",
   "metadata": {},
   "outputs": [],
   "source": [
    "def phi(x):\n",
    "    return -(1/4)*np.sin(x)-(1/2)*x**2\n",
    "def phi1(x):\n",
    "    return -(1/4)*np.cos(x)-x\n",
    "def phi2(x):\n",
    "    return (1/4)*np.sin(x)-1"
   ]
  },
  {
   "cell_type": "code",
   "execution_count": 20,
   "id": "b767f274",
   "metadata": {},
   "outputs": [
    {
     "data": {
      "image/png": "[encoded data removed]",
      "text/plain": [
       "<Figure size 1000x500 with 1 Axes>"
      ]
     },
     "metadata": {},
     "output_type": "display_data"
    }
   ],
   "source": [
    "x = np.linspace(-3, 1, 500)\n",
    "\n",
    "plt.figure(figsize=(10, 5))\n",
    "plt.plot(x, phi(x),color='red')\n",
    "plt.plot(x, phi1(x),color='blue')\n",
    "plt.plot(x, phi2(x),color='yellow')\n",
    "ax = plt.gca()\n",
    "ax.axhline(y=0, color='black')\n",
    "ax.axvline(x=0, color='black');"
   ]
  },
  {
   "cell_type": "markdown",
   "id": "326f87bb",
   "metadata": {},
   "source": [
    "видно, что производная убывает, следовательно максимальное значение функции будет на конце промежутка локализации"
   ]
  },
  {
   "cell_type": "code",
   "execution_count": 21,
   "id": "8e58404b",
   "metadata": {},
   "outputs": [],
   "source": [
    "def iter2(func, x_start, a, b, tol):\n",
    "    q = max(phi1(a),phi1(b))\n",
    "    q=(1-q)/q\n",
    "    x = x_start\n",
    "    x_n = func(x)\n",
    "    i = 0\n",
    "    while abs(x_n - x) >= abs(q * tol):\n",
    "        i+=1\n",
    "        x = x_n\n",
    "        x_n = func(x)\n",
    "        i+=1\n",
    "    return x_n"
   ]
  },
  {
   "cell_type": "code",
   "execution_count": 22,
   "id": "20090b4e",
   "metadata": {},
   "outputs": [
    {
     "name": "stdout",
     "output_type": "stream",
     "text": [
      "-0.000006191534080\n"
     ]
    }
   ],
   "source": [
    "start = 0.09\n",
    "a = -0.1\n",
    "b = 0.1\n",
    "print(\"%.15f\"%iter2(phi, start, a, b, 10**-5))"
   ]
  },
  {
   "cell_type": "markdown",
   "id": "fbda57b5",
   "metadata": {},
   "source": [
    "При таком преобразовании функции можно найти только один из корней, так как достаточное условие сходимости $|\\phi'(x)|<1$ выполняется только для корня x=0"
   ]
  },
  {
   "cell_type": "markdown",
   "id": "fa2d65cc",
   "metadata": {},
   "source": [
    "##### № 2.9.1"
   ]
  },
  {
   "cell_type": "markdown",
   "id": "37adc583",
   "metadata": {},
   "source": [
    "a) Локализовать корни уравнения $f(x)=0$. Уточнить их с точностью $\\epsilon = 10^{-7}$, используя метод Ньютона. Для поиска кратного корня и определения его кратности следует использовать модификацию метода Ньютона для случая кратного корня с m=1,2,3. При любых ли начальных приближениях такой метод сходится? \n",
    "\n",
    "b) Рассмотреть уравнение $f(x) + \\delta = 0$, где $\\delta = 10^{-8}$. Найти корень кратности 1, используя метод Ньютона.\n",
    "Применить для нахождения кратного корня соответствующую модификацию* метода Ньютона. Удается ли найти кратный корень? Если нет, то использовать метод Ньютона с комплексными начальными приближениями. Сохранился ли кратный корень? Объяснить результаты.\n",
    "\n",
    "f(x)= $3x^3 - 77x^2 + 605x - 1331 = (x-11)^{2}(3x-11)$\n",
    "\n",
    "$x_{1}=11$ - кратность 2\n",
    "\n",
    "$x_{2}=\\frac{11}{3}$ - кратность 2"
   ]
  },
  {
   "cell_type": "code",
   "execution_count": 23,
   "id": "c6c200a6",
   "metadata": {},
   "outputs": [],
   "source": [
    "def F(x):\n",
    "    return 3*x**3 - 77*x**2 + 605*x - 1331\n",
    "def F1(x):\n",
    "    return 9*x**2 - 154*x + 605"
   ]
  },
  {
   "cell_type": "markdown",
   "id": "d98eba6b",
   "metadata": {},
   "source": [
    "*a)* локализуем корни"
   ]
  },
  {
   "cell_type": "code",
   "execution_count": 24,
   "id": "5770c17e",
   "metadata": {},
   "outputs": [
    {
     "data": {
      "image/png": "[encoded data removed]",
      "text/plain": [
       "<Figure size 1000x500 with 1 Axes>"
      ]
     },
     "metadata": {},
     "output_type": "display_data"
    }
   ],
   "source": [
    "x = np.linspace(3, 13, 100)\n",
    "x1 = 11\n",
    "x2 = 11/3\n",
    "\n",
    "plt.figure(figsize=(10, 5))\n",
    "plt.scatter([x1,x2],[0,0],color='red')\n",
    "plt.plot(x, F(x))\n",
    "\n",
    "ax = plt.gca()\n",
    "ax.axhline(y=0, color='black')\n",
    "ax.axvline(x=0, color='black');"
   ]
  },
  {
   "cell_type": "markdown",
   "id": "40dffde0",
   "metadata": {},
   "source": [
    "С помощью метода ньютона найдем корни"
   ]
  },
  {
   "cell_type": "code",
   "execution_count": 25,
   "id": "b44bcd35",
   "metadata": {},
   "outputs": [],
   "source": [
    "def Method1(f,f1,ax_start,tol):\n",
    "    xn=ax_start\n",
    "    xn1=xn-f(xn)/f1(xn)\n",
    "    i = 0\n",
    "    while abs(xn - xn1) > tol:\n",
    "        \n",
    "        xn=xn1 \n",
    "        xn1=xn-f(xn)/f1(xn)\n",
    "        i+=1\n",
    "        if(i > 1000):\n",
    "            print(\"ERROR\")\n",
    "            return\n",
    "        \n",
    "    return xn1\n",
    "    "
   ]
  },
  {
   "cell_type": "code",
   "execution_count": 26,
   "id": "d660aa54",
   "metadata": {},
   "outputs": [
    {
     "name": "stdout",
     "output_type": "stream",
     "text": [
      "3.666666666666668\n"
     ]
    }
   ],
   "source": [
    "start = 3\n",
    "print(Method1(F,F1,start,10**(-7)))"
   ]
  },
  {
   "cell_type": "code",
   "execution_count": 27,
   "id": "06d5f8ea",
   "metadata": {},
   "outputs": [
    {
     "name": "stdout",
     "output_type": "stream",
     "text": [
      "10.999999849870097\n"
     ]
    }
   ],
   "source": [
    "start = 10.9\n",
    "print(Method1(F,F1,start,10**(-7)))"
   ]
  },
  {
   "cell_type": "markdown",
   "id": "e49cc852",
   "metadata": {},
   "source": [
    "Для поиска кратного корня и определения его кратности воспользуемся модифицированным методом ньютона"
   ]
  },
  {
   "cell_type": "code",
   "execution_count": 28,
   "id": "e3beab19",
   "metadata": {},
   "outputs": [],
   "source": [
    "def Method2(f,f1,ax_start,tol):\n",
    "    for m in range(1, 5):\n",
    "        xn=ax_start\n",
    "        xn1=xn-m*f(xn)/f1(xn)\n",
    "        i = 0\n",
    "        while abs(xn - xn1) > tol and i < 1000:\n",
    "\n",
    "            xn=xn1 \n",
    "            xn1=xn-m*f(xn)/f1(xn)\n",
    "            i+=1\n",
    "            if(i > 1000):\n",
    "                print(\"ERROR for m =\", m)\n",
    "                \n",
    "                \n",
    "        print(\"x =\", xn1,\"m =\",m,\"i =\",i)\n",
    "    \n",
    "    "
   ]
  },
  {
   "cell_type": "code",
   "execution_count": 29,
   "id": "67a554b2",
   "metadata": {},
   "outputs": [
    {
     "name": "stdout",
     "output_type": "stream",
     "text": [
      "x = 3.666666666666668 m = 1 i = 4\n",
      "x = 3.7457994565949893 m = 2 i = 1000\n",
      "x = 11.000000149824603 m = 3 i = 31\n",
      "x = 11.096272250775375 m = 4 i = 1000\n"
     ]
    }
   ],
   "source": [
    "start = 3\n",
    "Method2(F,F1,start,10**(-7))"
   ]
  },
  {
   "cell_type": "code",
   "execution_count": 30,
   "id": "803a23eb",
   "metadata": {},
   "outputs": [
    {
     "name": "stdout",
     "output_type": "stream",
     "text": [
      "x = 10.999999849870097 m = 1 i = 19\n",
      "x = 11.000000029806378 m = 2 i = 4\n",
      "x = 10.999999889046139 m = 3 i = 31\n",
      "x = 11.11264210936278 m = 4 i = 1000\n"
     ]
    }
   ],
   "source": [
    "start = 10.9\n",
    "Method2(F,F1,start,10**(-7))"
   ]
  },
  {
   "cell_type": "markdown",
   "id": "1f6653ef",
   "metadata": {},
   "source": [
    "Видно что корень $x=\\frac{11}{3}$ имеет кратность 1.\n",
    "\n",
    "Корень $x = 11$ имеет кратность 2, так как при параметре m = 2 количество итераций наименьшее"
   ]
  },
  {
   "cell_type": "markdown",
   "id": "7ce36417",
   "metadata": {},
   "source": [
    "**b)** Рассмотреть уравнение $f(x) + \\delta = 0$"
   ]
  },
  {
   "cell_type": "code",
   "execution_count": 31,
   "id": "58cd30c6",
   "metadata": {},
   "outputs": [],
   "source": [
    "def dF(x):\n",
    "    return 3*x**3 - 77*x**2 + 605*x - 1331 + 10 ** - 8\n",
    "def dF1(x):\n",
    "    return 9*x**2 - 154*x + 605 + 10 ** - 8"
   ]
  },
  {
   "cell_type": "code",
   "execution_count": 32,
   "id": "a1bbf38c",
   "metadata": {},
   "outputs": [
    {
     "data": {
      "image/png": "[encoded data removed]",
      "text/plain": [
       "<Figure size 1000x500 with 1 Axes>"
      ]
     },
     "metadata": {},
     "output_type": "display_data"
    }
   ],
   "source": [
    "x = np.linspace(3, 13, 100)\n",
    "\n",
    "plt.figure(figsize=(10, 5))\n",
    "\n",
    "plt.plot(x, dF(x))\n",
    "\n",
    "ax = plt.gca()\n",
    "ax.axhline(y=0, color='black')\n",
    "ax.axvline(x=0, color='black');"
   ]
  },
  {
   "cell_type": "code",
   "execution_count": 33,
   "id": "5c24db01",
   "metadata": {},
   "outputs": [
    {
     "name": "stdout",
     "output_type": "stream",
     "text": [
      "x1 = 3.6666666666046432 \n",
      "x2 = 10.999998923833456\n"
     ]
    }
   ],
   "source": [
    "x1 = scp.root(dF, 3.6, tol=10**-5).x[0]\n",
    "x2 = scp.root(dF, 10, tol=10**-5).x[0]\n",
    "\n",
    "print(\"x1 =\", x1, \"\\nx2 =\",x2)"
   ]
  },
  {
   "cell_type": "code",
   "execution_count": 34,
   "id": "54ff48fb",
   "metadata": {},
   "outputs": [
    {
     "data": {
      "text/plain": [
       "3.666666666604684"
      ]
     },
     "execution_count": 34,
     "metadata": {},
     "output_type": "execute_result"
    }
   ],
   "source": [
    "start = 3\n",
    "Method1(dF, dF1, start, 10**(-7))"
   ]
  },
  {
   "cell_type": "code",
   "execution_count": 35,
   "id": "b3480c87",
   "metadata": {},
   "outputs": [
    {
     "name": "stdout",
     "output_type": "stream",
     "text": [
      "x = 3.666666666604684 m = 1 i = 4\n",
      "x = 3.745799451620408 m = 2 i = 1000\n",
      "x = 10.999963072478591 m = 3 i = 1000\n",
      "x = 11.264993607636846 m = 4 i = 1000\n"
     ]
    }
   ],
   "source": [
    "start = 3\n",
    "Method2(dF, dF1, start, 10**(-7))"
   ]
  },
  {
   "cell_type": "code",
   "execution_count": 36,
   "id": "cae142be",
   "metadata": {},
   "outputs": [
    {
     "name": "stdout",
     "output_type": "stream",
     "text": [
      "ERROR\n"
     ]
    }
   ],
   "source": [
    "start = 10.9\n",
    "Method1(dF, dF1, start, 10**(-7))"
   ]
  },
  {
   "cell_type": "code",
   "execution_count": 37,
   "id": "261b6f7f",
   "metadata": {},
   "outputs": [
    {
     "name": "stdout",
     "output_type": "stream",
     "text": [
      "x = 10.99988437511833 m = 1 i = 1000\n",
      "x = 11.00000344142282 m = 2 i = 1000\n",
      "x = 11.000036927498444 m = 3 i = 1000\n",
      "x = 11.11265245538994 m = 4 i = 1000\n"
     ]
    }
   ],
   "source": [
    "start = 10.9\n",
    "Method2(dF, dF1, start, 10**(-7))"
   ]
  },
  {
   "cell_type": "markdown",
   "id": "a7ceccd4",
   "metadata": {},
   "source": [
    "Для поиска кратного корня метод не сходится"
   ]
  },
  {
   "cell_type": "code",
   "execution_count": 38,
   "id": "b33746f2",
   "metadata": {},
   "outputs": [],
   "source": [
    "def Method3(f,f1,ax_start,tol):\n",
    "    for m in range(1, 5):\n",
    "        xn=ax_start\n",
    "        xn1=xn-m*complex(f(xn)/f1(xn))\n",
    "        i = 0\n",
    "        while abs(xn - xn1) > tol and i < 1000:\n",
    "\n",
    "            xn=xn1 \n",
    "            xn1=xn-m*complex(f(xn)/f1(xn))\n",
    "            i+=1\n",
    "            if(i > 1000):\n",
    "                print(\"ERROR for m =\", m)\n",
    "                \n",
    "                \n",
    "        print(\"x =\", xn1,\"m =\",m,\"i =\",i)\n",
    "    \n",
    "    "
   ]
  },
  {
   "cell_type": "code",
   "execution_count": 39,
   "id": "5aa917ab",
   "metadata": {},
   "outputs": [
    {
     "name": "stdout",
     "output_type": "stream",
     "text": [
      "x = (3.666666666604683+8.475824488282156e-24j) m = 1 i = 4\n",
      "x = (3.7457998653682063-1.878392137320098e-05j) m = 2 i = 1000\n",
      "x = (10.999963074513598+2.1935e-319j) m = 3 i = 1000\n",
      "x = (10.996356533864613-0.2332072685294082j) m = 4 i = 1000\n"
     ]
    }
   ],
   "source": [
    "start = 3 + 0.01j\n",
    "Method3(dF, dF1, start, 10**(-7))"
   ]
  },
  {
   "cell_type": "code",
   "execution_count": 40,
   "id": "cb9afade",
   "metadata": {},
   "outputs": [
    {
     "name": "stdout",
     "output_type": "stream",
     "text": [
      "x = (11.000000000031017+2.131948014598877e-05j) m = 1 i = 18\n",
      "x = (11.000077560593882-0.00015099308581531062j) m = 2 i = 1000\n",
      "x = (11.000036928892028-1.16985e-319j) m = 3 i = 1000\n",
      "x = (11.112136913472996-0.014048419517838215j) m = 4 i = 1000\n"
     ]
    }
   ],
   "source": [
    "start = 10.9 + 0.01j\n",
    "Method3(dF, dF1, start, 10**(-7))"
   ]
  },
  {
   "cell_type": "markdown",
   "id": "87e1b4f0",
   "metadata": {},
   "source": [
    "Как видно при комплексном начальном приближении у второго корня изменилась кратность(теперь наименьшее количество итераций при m = 1). Значит появился комплексно-сопряженный корень:"
   ]
  },
  {
   "cell_type": "code",
   "execution_count": 41,
   "id": "105f4d01",
   "metadata": {},
   "outputs": [
    {
     "name": "stdout",
     "output_type": "stream",
     "text": [
      "x = (11.000000000031017-2.131948014598877e-05j) m = 1 i = 18\n",
      "x = (11.000077560593882+0.00015099308581531062j) m = 2 i = 1000\n",
      "x = (11.000036928892028+1.16985e-319j) m = 3 i = 1000\n",
      "x = (11.112136913472996+0.014048419517838215j) m = 4 i = 1000\n"
     ]
    }
   ],
   "source": [
    "start = 10.9 - 0.01j\n",
    "Method3(dF, dF1, start, 10**(-7))"
   ]
  },
  {
   "cell_type": "code",
   "execution_count": null,
   "id": "114cf92a",
   "metadata": {},
   "outputs": [],
   "source": []
  }
 ],
 "metadata": {
  "kernelspec": {
   "display_name": "Python 3 (ipykernel)",
   "language": "python",
   "name": "python3"
  },
  "language_info": {
   "codemirror_mode": {
    "name": "ipython",
    "version": 3
   },
   "file_extension": ".py",
   "mimetype": "text/x-python",
   "name": "python",
   "nbconvert_exporter": "python",
   "pygments_lexer": "ipython3",
   "version": "3.8.5"
  }
 },
 "nbformat": 4,
 "nbformat_minor": 5
}
